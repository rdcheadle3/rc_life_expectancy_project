{
 "cells": [
  {
   "cell_type": "markdown",
   "id": "40629d28",
   "metadata": {
    "toc": true
   },
   "source": [
    "<h1>Table of Contents<span class=\"tocSkip\"></span></h1>\n",
    "<div class=\"toc\"><ul class=\"toc-item\"><li><span><a href=\"#co2-emissions-and-life-expectancy-data-set-wrangling\" data-toc-modified-id=\"co2-emissions-and-life-expectancy-data-set-wrangling-1\">co2 emissions and life expectancy data set wrangling</a></span><ul class=\"toc-item\"><li><span><a href=\"#01-Import-libraries\" data-toc-modified-id=\"01-Import-libraries-1.1\">01 Import libraries</a></span></li><li><span><a href=\"#02-Create-path\" data-toc-modified-id=\"02-Create-path-1.2\">02 Create path</a></span></li><li><span><a href=\"#03-Import-data\" data-toc-modified-id=\"03-Import-data-1.3\">03 Import data</a></span></li><li><span><a href=\"#04-Shape-and-Size-of-data\" data-toc-modified-id=\"04-Shape-and-Size-of-data-1.4\">04 Shape and Size of data</a></span></li><li><span><a href=\"#05-List-variables-from-each-data-set\" data-toc-modified-id=\"05-List-variables-from-each-data-set-1.5\">05 List variables from each data set</a></span></li><li><span><a href=\"#06-Create-new-dataframe-of-carbon-data-with-only-columns-necessary-for-analysis\" data-toc-modified-id=\"06-Create-new-dataframe-of-carbon-data-with-only-columns-necessary-for-analysis-1.6\">06 Create new dataframe of carbon data with only columns necessary for analysis</a></span></li><li><span><a href=\"#07-format-df_life-dataframe-to-match-df_carbon-new\" data-toc-modified-id=\"07-format-df_life-dataframe-to-match-df_carbon-new-1.7\">07 format df_life dataframe to match df_carbon new</a></span></li><li><span><a href=\"#08-create-dataframe-that-contain-data-from-1990-to-present\" data-toc-modified-id=\"08-create-dataframe-that-contain-data-from-1990-to-present-1.8\">08 create dataframe that contain data from 1990 to present</a></span></li><li><span><a href=\"#09-Check-and-Change-data-types-if-necessary\" data-toc-modified-id=\"09-Check-and-Change-data-types-if-necessary-1.9\">09 Check and Change data types if necessary</a></span></li><li><span><a href=\"#10-Export-df's-as-csv\" data-toc-modified-id=\"10-Export-df's-as-csv-1.10\">10 Export df's as csv</a></span></li></ul></li></ul></div>"
   ]
  },
  {
   "cell_type": "markdown",
   "id": "4160c183",
   "metadata": {},
   "source": [
    "# co2 emissions and life expectancy data set wrangling"
   ]
  },
  {
   "cell_type": "markdown",
   "id": "814f0ed6",
   "metadata": {},
   "source": [
    "## 01 Import libraries"
   ]
  },
  {
   "cell_type": "code",
   "execution_count": 1,
   "id": "8a7267ed",
   "metadata": {},
   "outputs": [],
   "source": [
    "# Import libraries\n",
    "\n",
    "import pandas as pd\n",
    "import numpy as np\n",
    "import os"
   ]
  },
  {
   "cell_type": "markdown",
   "id": "276722be",
   "metadata": {},
   "source": [
    "## 02 Create path\n"
   ]
  },
  {
   "cell_type": "code",
   "execution_count": 2,
   "id": "be47d06a",
   "metadata": {},
   "outputs": [
    {
     "data": {
      "text/plain": [
       "'C:\\\\Users\\\\rober_fjs0dbr\\\\OneDrive\\\\Desktop\\\\robert_cheadle_portfolio\\\\rc_final_project\\\\02 Data\\\\Raw Data'"
      ]
     },
     "execution_count": 2,
     "metadata": {},
     "output_type": "execute_result"
    }
   ],
   "source": [
    "#create path to data sets\n",
    "\n",
    "path = r'C:\\Users\\rober_fjs0dbr\\OneDrive\\Desktop\\robert_cheadle_portfolio\\rc_final_project\\02 Data\\Raw Data'\n",
    "\n",
    "path"
   ]
  },
  {
   "cell_type": "markdown",
   "id": "fcd80eae",
   "metadata": {},
   "source": [
    "## 03 Import data"
   ]
  },
  {
   "cell_type": "code",
   "execution_count": 3,
   "id": "c6030162",
   "metadata": {},
   "outputs": [],
   "source": [
    "# orders data set as df_carbon\n",
    "\n",
    "df_carbon = pd.read_csv(os.path.join(path, 'co2_data.csv'), index_col = False)\n",
    "\n",
    "df_life = pd.read_csv(os.path.join(path, 'life_expectancy.csv'), index_col = False)"
   ]
  },
  {
   "cell_type": "markdown",
   "id": "742b1de6",
   "metadata": {},
   "source": [
    "## 04 Shape and Size of data"
   ]
  },
  {
   "cell_type": "code",
   "execution_count": 4,
   "id": "b36035d1",
   "metadata": {},
   "outputs": [
    {
     "data": {
      "text/plain": [
       "(46523, 74)"
      ]
     },
     "execution_count": 4,
     "metadata": {},
     "output_type": "execute_result"
    }
   ],
   "source": [
    "# shape of co2 data\n",
    "\n",
    "df_carbon.shape"
   ]
  },
  {
   "cell_type": "code",
   "execution_count": 5,
   "id": "92bf7953",
   "metadata": {},
   "outputs": [
    {
     "data": {
      "text/plain": [
       "(12845, 4)"
      ]
     },
     "execution_count": 5,
     "metadata": {},
     "output_type": "execute_result"
    }
   ],
   "source": [
    "# shape of life expectancy data\n",
    "\n",
    "df_life.shape"
   ]
  },
  {
   "cell_type": "markdown",
   "id": "e7a09f7e",
   "metadata": {},
   "source": [
    "## 05 List variables from each data set"
   ]
  },
  {
   "cell_type": "code",
   "execution_count": 6,
   "id": "befcd3a2",
   "metadata": {},
   "outputs": [
    {
     "name": "stdout",
     "output_type": "stream",
     "text": [
      "country\n",
      "year\n",
      "iso_code\n",
      "population\n",
      "gdp\n",
      "cement_co2\n",
      "cement_co2_per_capita\n",
      "co2\n",
      "co2_growth_abs\n",
      "co2_growth_prct\n",
      "co2_including_luc\n",
      "co2_including_luc_growth_abs\n",
      "co2_including_luc_growth_prct\n",
      "co2_including_luc_per_capita\n",
      "co2_including_luc_per_gdp\n",
      "co2_including_luc_per_unit_energy\n",
      "co2_per_capita\n",
      "co2_per_gdp\n",
      "co2_per_unit_energy\n",
      "coal_co2\n",
      "coal_co2_per_capita\n",
      "consumption_co2\n",
      "consumption_co2_per_capita\n",
      "consumption_co2_per_gdp\n",
      "cumulative_cement_co2\n",
      "cumulative_co2\n",
      "cumulative_co2_including_luc\n",
      "cumulative_coal_co2\n",
      "cumulative_flaring_co2\n",
      "cumulative_gas_co2\n",
      "cumulative_luc_co2\n",
      "cumulative_oil_co2\n",
      "cumulative_other_co2\n",
      "energy_per_capita\n",
      "energy_per_gdp\n",
      "flaring_co2\n",
      "flaring_co2_per_capita\n",
      "gas_co2\n",
      "gas_co2_per_capita\n",
      "ghg_excluding_lucf_per_capita\n",
      "ghg_per_capita\n",
      "land_use_change_co2\n",
      "land_use_change_co2_per_capita\n",
      "methane\n",
      "methane_per_capita\n",
      "nitrous_oxide\n",
      "nitrous_oxide_per_capita\n",
      "oil_co2\n",
      "oil_co2_per_capita\n",
      "other_co2_per_capita\n",
      "other_industry_co2\n",
      "primary_energy_consumption\n",
      "share_global_cement_co2\n",
      "share_global_co2\n",
      "share_global_co2_including_luc\n",
      "share_global_coal_co2\n",
      "share_global_cumulative_cement_co2\n",
      "share_global_cumulative_co2\n",
      "share_global_cumulative_co2_including_luc\n",
      "share_global_cumulative_coal_co2\n",
      "share_global_cumulative_flaring_co2\n",
      "share_global_cumulative_gas_co2\n",
      "share_global_cumulative_luc_co2\n",
      "share_global_cumulative_oil_co2\n",
      "share_global_cumulative_other_co2\n",
      "share_global_flaring_co2\n",
      "share_global_gas_co2\n",
      "share_global_luc_co2\n",
      "share_global_oil_co2\n",
      "share_global_other_co2\n",
      "total_ghg\n",
      "total_ghg_excluding_lucf\n",
      "trade_co2\n",
      "trade_co2_share\n"
     ]
    }
   ],
   "source": [
    "# iterating the columns in df_carbon\n",
    "\n",
    "for col in df_carbon.columns:\n",
    "    print(col)"
   ]
  },
  {
   "cell_type": "code",
   "execution_count": 7,
   "id": "604e2ba8",
   "metadata": {},
   "outputs": [
    {
     "name": "stdout",
     "output_type": "stream",
     "text": [
      "Entity\n",
      "Code\n",
      "Year\n",
      "Life expectancy at birth, total (years)\n"
     ]
    }
   ],
   "source": [
    "# iterating the columns in df_carbon\n",
    "\n",
    "for col in df_life.columns:\n",
    "    print(col)"
   ]
  },
  {
   "cell_type": "markdown",
   "id": "46b31012",
   "metadata": {},
   "source": [
    "## 06 Create new dataframe of carbon data with only columns necessary for analysis"
   ]
  },
  {
   "cell_type": "code",
   "execution_count": 8,
   "id": "faac7813",
   "metadata": {},
   "outputs": [
    {
     "data": {
      "text/html": [
       "<div>\n",
       "<style scoped>\n",
       "    .dataframe tbody tr th:only-of-type {\n",
       "        vertical-align: middle;\n",
       "    }\n",
       "\n",
       "    .dataframe tbody tr th {\n",
       "        vertical-align: top;\n",
       "    }\n",
       "\n",
       "    .dataframe thead th {\n",
       "        text-align: right;\n",
       "    }\n",
       "</style>\n",
       "<table border=\"1\" class=\"dataframe\">\n",
       "  <thead>\n",
       "    <tr style=\"text-align: right;\">\n",
       "      <th></th>\n",
       "      <th>country</th>\n",
       "      <th>year</th>\n",
       "      <th>iso_code</th>\n",
       "      <th>population</th>\n",
       "      <th>gdp</th>\n",
       "      <th>co2</th>\n",
       "      <th>trade_co2</th>\n",
       "    </tr>\n",
       "  </thead>\n",
       "  <tbody>\n",
       "    <tr>\n",
       "      <th>0</th>\n",
       "      <td>Afghanistan</td>\n",
       "      <td>1850</td>\n",
       "      <td>AFG</td>\n",
       "      <td>3752993.0</td>\n",
       "      <td>NaN</td>\n",
       "      <td>NaN</td>\n",
       "      <td>NaN</td>\n",
       "    </tr>\n",
       "    <tr>\n",
       "      <th>1</th>\n",
       "      <td>Afghanistan</td>\n",
       "      <td>1851</td>\n",
       "      <td>AFG</td>\n",
       "      <td>3769828.0</td>\n",
       "      <td>NaN</td>\n",
       "      <td>NaN</td>\n",
       "      <td>NaN</td>\n",
       "    </tr>\n",
       "    <tr>\n",
       "      <th>2</th>\n",
       "      <td>Afghanistan</td>\n",
       "      <td>1852</td>\n",
       "      <td>AFG</td>\n",
       "      <td>3787706.0</td>\n",
       "      <td>NaN</td>\n",
       "      <td>NaN</td>\n",
       "      <td>NaN</td>\n",
       "    </tr>\n",
       "    <tr>\n",
       "      <th>3</th>\n",
       "      <td>Afghanistan</td>\n",
       "      <td>1853</td>\n",
       "      <td>AFG</td>\n",
       "      <td>3806634.0</td>\n",
       "      <td>NaN</td>\n",
       "      <td>NaN</td>\n",
       "      <td>NaN</td>\n",
       "    </tr>\n",
       "    <tr>\n",
       "      <th>4</th>\n",
       "      <td>Afghanistan</td>\n",
       "      <td>1854</td>\n",
       "      <td>AFG</td>\n",
       "      <td>3825655.0</td>\n",
       "      <td>NaN</td>\n",
       "      <td>NaN</td>\n",
       "      <td>NaN</td>\n",
       "    </tr>\n",
       "  </tbody>\n",
       "</table>\n",
       "</div>"
      ],
      "text/plain": [
       "       country  year iso_code  population  gdp  co2  trade_co2\n",
       "0  Afghanistan  1850      AFG   3752993.0  NaN  NaN        NaN\n",
       "1  Afghanistan  1851      AFG   3769828.0  NaN  NaN        NaN\n",
       "2  Afghanistan  1852      AFG   3787706.0  NaN  NaN        NaN\n",
       "3  Afghanistan  1853      AFG   3806634.0  NaN  NaN        NaN\n",
       "4  Afghanistan  1854      AFG   3825655.0  NaN  NaN        NaN"
      ]
     },
     "execution_count": 8,
     "metadata": {},
     "output_type": "execute_result"
    }
   ],
   "source": [
    "# Create new DataFrame\n",
    "\n",
    "df_carbon_new = df_carbon[['country','year', 'iso_code', 'population', 'gdp', 'co2', 'trade_co2']]\n",
    "\n",
    "df_carbon_new.head()"
   ]
  },
  {
   "cell_type": "markdown",
   "id": "ae4adf05",
   "metadata": {},
   "source": [
    "## 07 format df_life dataframe to match df_carbon new"
   ]
  },
  {
   "cell_type": "code",
   "execution_count": 9,
   "id": "adb3db54",
   "metadata": {},
   "outputs": [
    {
     "data": {
      "text/html": [
       "<div>\n",
       "<style scoped>\n",
       "    .dataframe tbody tr th:only-of-type {\n",
       "        vertical-align: middle;\n",
       "    }\n",
       "\n",
       "    .dataframe tbody tr th {\n",
       "        vertical-align: top;\n",
       "    }\n",
       "\n",
       "    .dataframe thead th {\n",
       "        text-align: right;\n",
       "    }\n",
       "</style>\n",
       "<table border=\"1\" class=\"dataframe\">\n",
       "  <thead>\n",
       "    <tr style=\"text-align: right;\">\n",
       "      <th></th>\n",
       "      <th>country</th>\n",
       "      <th>iso_code</th>\n",
       "      <th>year</th>\n",
       "      <th>life_expectancy</th>\n",
       "    </tr>\n",
       "  </thead>\n",
       "  <tbody>\n",
       "    <tr>\n",
       "      <th>0</th>\n",
       "      <td>Afghanistan</td>\n",
       "      <td>AFG</td>\n",
       "      <td>1960</td>\n",
       "      <td>32.445999</td>\n",
       "    </tr>\n",
       "    <tr>\n",
       "      <th>1</th>\n",
       "      <td>Afghanistan</td>\n",
       "      <td>AFG</td>\n",
       "      <td>1961</td>\n",
       "      <td>32.962002</td>\n",
       "    </tr>\n",
       "    <tr>\n",
       "      <th>2</th>\n",
       "      <td>Afghanistan</td>\n",
       "      <td>AFG</td>\n",
       "      <td>1962</td>\n",
       "      <td>33.471001</td>\n",
       "    </tr>\n",
       "    <tr>\n",
       "      <th>3</th>\n",
       "      <td>Afghanistan</td>\n",
       "      <td>AFG</td>\n",
       "      <td>1963</td>\n",
       "      <td>33.971001</td>\n",
       "    </tr>\n",
       "    <tr>\n",
       "      <th>4</th>\n",
       "      <td>Afghanistan</td>\n",
       "      <td>AFG</td>\n",
       "      <td>1964</td>\n",
       "      <td>34.463001</td>\n",
       "    </tr>\n",
       "  </tbody>\n",
       "</table>\n",
       "</div>"
      ],
      "text/plain": [
       "       country iso_code  year  life_expectancy\n",
       "0  Afghanistan      AFG  1960        32.445999\n",
       "1  Afghanistan      AFG  1961        32.962002\n",
       "2  Afghanistan      AFG  1962        33.471001\n",
       "3  Afghanistan      AFG  1963        33.971001\n",
       "4  Afghanistan      AFG  1964        34.463001"
      ]
     },
     "execution_count": 9,
     "metadata": {},
     "output_type": "execute_result"
    }
   ],
   "source": [
    "# rename Entity, Code, Year, and Life expectancy at birth, total (years) to country, year, iso_code, and life_expectancy\n",
    "\n",
    "\n",
    "df_life = df_life.rename(columns = {'Entity' : 'country'}, inplace = False)\n",
    "df_life = df_life.rename(columns = {'Code' : 'iso_code'}, inplace = False)\n",
    "df_life = df_life.rename(columns = {'Year' : 'year'}, inplace = False)\n",
    "df_life = df_life.rename(columns = {'Life expectancy at birth, total (years)' : 'life_expectancy'}, inplace = False)\n",
    "\n",
    "df_life.head()"
   ]
  },
  {
   "cell_type": "markdown",
   "id": "1e2611e3",
   "metadata": {},
   "source": [
    "## 08 create dataframe that contain data from 1990 to present"
   ]
  },
  {
   "cell_type": "code",
   "execution_count": 10,
   "id": "ff0a5ad3",
   "metadata": {},
   "outputs": [
    {
     "data": {
      "text/html": [
       "<div>\n",
       "<style scoped>\n",
       "    .dataframe tbody tr th:only-of-type {\n",
       "        vertical-align: middle;\n",
       "    }\n",
       "\n",
       "    .dataframe tbody tr th {\n",
       "        vertical-align: top;\n",
       "    }\n",
       "\n",
       "    .dataframe thead th {\n",
       "        text-align: right;\n",
       "    }\n",
       "</style>\n",
       "<table border=\"1\" class=\"dataframe\">\n",
       "  <thead>\n",
       "    <tr style=\"text-align: right;\">\n",
       "      <th></th>\n",
       "      <th>country</th>\n",
       "      <th>iso_code</th>\n",
       "      <th>year</th>\n",
       "      <th>life_expectancy</th>\n",
       "    </tr>\n",
       "  </thead>\n",
       "  <tbody>\n",
       "    <tr>\n",
       "      <th>30</th>\n",
       "      <td>Afghanistan</td>\n",
       "      <td>AFG</td>\n",
       "      <td>1990</td>\n",
       "      <td>50.331001</td>\n",
       "    </tr>\n",
       "    <tr>\n",
       "      <th>31</th>\n",
       "      <td>Afghanistan</td>\n",
       "      <td>AFG</td>\n",
       "      <td>1991</td>\n",
       "      <td>50.999001</td>\n",
       "    </tr>\n",
       "    <tr>\n",
       "      <th>32</th>\n",
       "      <td>Afghanistan</td>\n",
       "      <td>AFG</td>\n",
       "      <td>1992</td>\n",
       "      <td>51.640999</td>\n",
       "    </tr>\n",
       "    <tr>\n",
       "      <th>33</th>\n",
       "      <td>Afghanistan</td>\n",
       "      <td>AFG</td>\n",
       "      <td>1993</td>\n",
       "      <td>52.256001</td>\n",
       "    </tr>\n",
       "    <tr>\n",
       "      <th>34</th>\n",
       "      <td>Afghanistan</td>\n",
       "      <td>AFG</td>\n",
       "      <td>1994</td>\n",
       "      <td>52.841999</td>\n",
       "    </tr>\n",
       "    <tr>\n",
       "      <th>...</th>\n",
       "      <td>...</td>\n",
       "      <td>...</td>\n",
       "      <td>...</td>\n",
       "      <td>...</td>\n",
       "    </tr>\n",
       "    <tr>\n",
       "      <th>12840</th>\n",
       "      <td>Zimbabwe</td>\n",
       "      <td>ZWE</td>\n",
       "      <td>2016</td>\n",
       "      <td>60.293999</td>\n",
       "    </tr>\n",
       "    <tr>\n",
       "      <th>12841</th>\n",
       "      <td>Zimbabwe</td>\n",
       "      <td>ZWE</td>\n",
       "      <td>2017</td>\n",
       "      <td>60.812000</td>\n",
       "    </tr>\n",
       "    <tr>\n",
       "      <th>12842</th>\n",
       "      <td>Zimbabwe</td>\n",
       "      <td>ZWE</td>\n",
       "      <td>2018</td>\n",
       "      <td>61.195000</td>\n",
       "    </tr>\n",
       "    <tr>\n",
       "      <th>12843</th>\n",
       "      <td>Zimbabwe</td>\n",
       "      <td>ZWE</td>\n",
       "      <td>2019</td>\n",
       "      <td>61.490002</td>\n",
       "    </tr>\n",
       "    <tr>\n",
       "      <th>12844</th>\n",
       "      <td>Zimbabwe</td>\n",
       "      <td>ZWE</td>\n",
       "      <td>2020</td>\n",
       "      <td>61.737999</td>\n",
       "    </tr>\n",
       "  </tbody>\n",
       "</table>\n",
       "<p>6646 rows × 4 columns</p>\n",
       "</div>"
      ],
      "text/plain": [
       "           country iso_code  year  life_expectancy\n",
       "30     Afghanistan      AFG  1990        50.331001\n",
       "31     Afghanistan      AFG  1991        50.999001\n",
       "32     Afghanistan      AFG  1992        51.640999\n",
       "33     Afghanistan      AFG  1993        52.256001\n",
       "34     Afghanistan      AFG  1994        52.841999\n",
       "...            ...      ...   ...              ...\n",
       "12840     Zimbabwe      ZWE  2016        60.293999\n",
       "12841     Zimbabwe      ZWE  2017        60.812000\n",
       "12842     Zimbabwe      ZWE  2018        61.195000\n",
       "12843     Zimbabwe      ZWE  2019        61.490002\n",
       "12844     Zimbabwe      ZWE  2020        61.737999\n",
       "\n",
       "[6646 rows x 4 columns]"
      ]
     },
     "execution_count": 10,
     "metadata": {},
     "output_type": "execute_result"
    }
   ],
   "source": [
    "# only show data from after 1989 in df_life\n",
    "\n",
    "df_life = df_life.loc[df_life['year'] > 1989]\n",
    "\n",
    "df_life"
   ]
  },
  {
   "cell_type": "code",
   "execution_count": 11,
   "id": "293d4480",
   "metadata": {
    "scrolled": true
   },
   "outputs": [
    {
     "data": {
      "text/html": [
       "<div>\n",
       "<style scoped>\n",
       "    .dataframe tbody tr th:only-of-type {\n",
       "        vertical-align: middle;\n",
       "    }\n",
       "\n",
       "    .dataframe tbody tr th {\n",
       "        vertical-align: top;\n",
       "    }\n",
       "\n",
       "    .dataframe thead th {\n",
       "        text-align: right;\n",
       "    }\n",
       "</style>\n",
       "<table border=\"1\" class=\"dataframe\">\n",
       "  <thead>\n",
       "    <tr style=\"text-align: right;\">\n",
       "      <th></th>\n",
       "      <th>country</th>\n",
       "      <th>year</th>\n",
       "      <th>iso_code</th>\n",
       "      <th>population</th>\n",
       "      <th>gdp</th>\n",
       "      <th>co2</th>\n",
       "      <th>trade_co2</th>\n",
       "    </tr>\n",
       "  </thead>\n",
       "  <tbody>\n",
       "    <tr>\n",
       "      <th>140</th>\n",
       "      <td>Afghanistan</td>\n",
       "      <td>1990</td>\n",
       "      <td>AFG</td>\n",
       "      <td>10694804.0</td>\n",
       "      <td>1.306598e+10</td>\n",
       "      <td>2.024</td>\n",
       "      <td>NaN</td>\n",
       "    </tr>\n",
       "    <tr>\n",
       "      <th>141</th>\n",
       "      <td>Afghanistan</td>\n",
       "      <td>1991</td>\n",
       "      <td>AFG</td>\n",
       "      <td>10745168.0</td>\n",
       "      <td>1.204736e+10</td>\n",
       "      <td>1.914</td>\n",
       "      <td>NaN</td>\n",
       "    </tr>\n",
       "    <tr>\n",
       "      <th>142</th>\n",
       "      <td>Afghanistan</td>\n",
       "      <td>1992</td>\n",
       "      <td>AFG</td>\n",
       "      <td>12057436.0</td>\n",
       "      <td>1.267754e+10</td>\n",
       "      <td>1.482</td>\n",
       "      <td>NaN</td>\n",
       "    </tr>\n",
       "    <tr>\n",
       "      <th>143</th>\n",
       "      <td>Afghanistan</td>\n",
       "      <td>1993</td>\n",
       "      <td>AFG</td>\n",
       "      <td>14003764.0</td>\n",
       "      <td>9.834581e+09</td>\n",
       "      <td>1.487</td>\n",
       "      <td>NaN</td>\n",
       "    </tr>\n",
       "    <tr>\n",
       "      <th>144</th>\n",
       "      <td>Afghanistan</td>\n",
       "      <td>1994</td>\n",
       "      <td>AFG</td>\n",
       "      <td>15455560.0</td>\n",
       "      <td>7.919857e+09</td>\n",
       "      <td>1.454</td>\n",
       "      <td>NaN</td>\n",
       "    </tr>\n",
       "    <tr>\n",
       "      <th>...</th>\n",
       "      <td>...</td>\n",
       "      <td>...</td>\n",
       "      <td>...</td>\n",
       "      <td>...</td>\n",
       "      <td>...</td>\n",
       "      <td>...</td>\n",
       "      <td>...</td>\n",
       "    </tr>\n",
       "    <tr>\n",
       "      <th>46518</th>\n",
       "      <td>Zimbabwe</td>\n",
       "      <td>2017</td>\n",
       "      <td>ZWE</td>\n",
       "      <td>14751101.0</td>\n",
       "      <td>2.194784e+10</td>\n",
       "      <td>9.596</td>\n",
       "      <td>0.910</td>\n",
       "    </tr>\n",
       "    <tr>\n",
       "      <th>46519</th>\n",
       "      <td>Zimbabwe</td>\n",
       "      <td>2018</td>\n",
       "      <td>ZWE</td>\n",
       "      <td>15052191.0</td>\n",
       "      <td>2.271535e+10</td>\n",
       "      <td>11.795</td>\n",
       "      <td>0.771</td>\n",
       "    </tr>\n",
       "    <tr>\n",
       "      <th>46520</th>\n",
       "      <td>Zimbabwe</td>\n",
       "      <td>2019</td>\n",
       "      <td>ZWE</td>\n",
       "      <td>15354606.0</td>\n",
       "      <td>NaN</td>\n",
       "      <td>11.115</td>\n",
       "      <td>0.978</td>\n",
       "    </tr>\n",
       "    <tr>\n",
       "      <th>46521</th>\n",
       "      <td>Zimbabwe</td>\n",
       "      <td>2020</td>\n",
       "      <td>ZWE</td>\n",
       "      <td>15669663.0</td>\n",
       "      <td>NaN</td>\n",
       "      <td>10.608</td>\n",
       "      <td>1.006</td>\n",
       "    </tr>\n",
       "    <tr>\n",
       "      <th>46522</th>\n",
       "      <td>Zimbabwe</td>\n",
       "      <td>2021</td>\n",
       "      <td>ZWE</td>\n",
       "      <td>15993525.0</td>\n",
       "      <td>NaN</td>\n",
       "      <td>11.296</td>\n",
       "      <td>NaN</td>\n",
       "    </tr>\n",
       "  </tbody>\n",
       "</table>\n",
       "<p>8321 rows × 7 columns</p>\n",
       "</div>"
      ],
      "text/plain": [
       "           country  year iso_code  population           gdp     co2  trade_co2\n",
       "140    Afghanistan  1990      AFG  10694804.0  1.306598e+10   2.024        NaN\n",
       "141    Afghanistan  1991      AFG  10745168.0  1.204736e+10   1.914        NaN\n",
       "142    Afghanistan  1992      AFG  12057436.0  1.267754e+10   1.482        NaN\n",
       "143    Afghanistan  1993      AFG  14003764.0  9.834581e+09   1.487        NaN\n",
       "144    Afghanistan  1994      AFG  15455560.0  7.919857e+09   1.454        NaN\n",
       "...            ...   ...      ...         ...           ...     ...        ...\n",
       "46518     Zimbabwe  2017      ZWE  14751101.0  2.194784e+10   9.596      0.910\n",
       "46519     Zimbabwe  2018      ZWE  15052191.0  2.271535e+10  11.795      0.771\n",
       "46520     Zimbabwe  2019      ZWE  15354606.0           NaN  11.115      0.978\n",
       "46521     Zimbabwe  2020      ZWE  15669663.0           NaN  10.608      1.006\n",
       "46522     Zimbabwe  2021      ZWE  15993525.0           NaN  11.296        NaN\n",
       "\n",
       "[8321 rows x 7 columns]"
      ]
     },
     "execution_count": 11,
     "metadata": {},
     "output_type": "execute_result"
    }
   ],
   "source": [
    "# only show data from after 1989 in df_carbon_new\n",
    "\n",
    "df_carbon_new = df_carbon_new.loc[df_carbon_new['year'] > 1989]\n",
    "\n",
    "df_carbon_new"
   ]
  },
  {
   "cell_type": "markdown",
   "id": "1d319f0a",
   "metadata": {},
   "source": [
    "## 09 Check and Change data types if necessary"
   ]
  },
  {
   "cell_type": "code",
   "execution_count": 13,
   "id": "c186b098",
   "metadata": {},
   "outputs": [
    {
     "data": {
      "text/plain": [
       "country        object\n",
       "year            int64\n",
       "iso_code       object\n",
       "population    float64\n",
       "gdp           float64\n",
       "co2           float64\n",
       "trade_co2     float64\n",
       "dtype: object"
      ]
     },
     "execution_count": 13,
     "metadata": {},
     "output_type": "execute_result"
    }
   ],
   "source": [
    "# check data types for df_carbon_new\n",
    "\n",
    "df_carbon_new.dtypes"
   ]
  },
  {
   "cell_type": "code",
   "execution_count": 14,
   "id": "23d8a382",
   "metadata": {},
   "outputs": [
    {
     "data": {
      "text/plain": [
       "country             object\n",
       "iso_code            object\n",
       "year                 int64\n",
       "life_expectancy    float64\n",
       "dtype: object"
      ]
     },
     "execution_count": 14,
     "metadata": {},
     "output_type": "execute_result"
    }
   ],
   "source": [
    "# check data types for df_life\n",
    "\n",
    "df_life.dtypes"
   ]
  },
  {
   "cell_type": "markdown",
   "id": "f7ba9f0a",
   "metadata": {},
   "source": [
    "## 10 Export df's as csv\n",
    "\n"
   ]
  },
  {
   "cell_type": "code",
   "execution_count": 15,
   "id": "63f8ac7b",
   "metadata": {},
   "outputs": [],
   "source": [
    "path = r'C:\\Users\\rober_fjs0dbr\\OneDrive\\Desktop\\robert_cheadle_portfolio\\rc_final_project\\02 Data'"
   ]
  },
  {
   "cell_type": "code",
   "execution_count": 16,
   "id": "48b51f1f",
   "metadata": {},
   "outputs": [],
   "source": [
    "# export df_carbon_new\n",
    "\n",
    "df_carbon_new.to_csv(os.path.join(path, 'Prepared Data', 'carbon_wrangled.csv'))"
   ]
  },
  {
   "cell_type": "code",
   "execution_count": 17,
   "id": "ad51b2e0",
   "metadata": {},
   "outputs": [],
   "source": [
    "# export df_life\n",
    "\n",
    "df_life.to_csv(os.path.join(path, 'Prepared Data', 'life_wrangled.csv'))"
   ]
  },
  {
   "cell_type": "code",
   "execution_count": null,
   "id": "1a9099a1",
   "metadata": {},
   "outputs": [],
   "source": []
  }
 ],
 "metadata": {
  "kernelspec": {
   "display_name": "Python 3 (ipykernel)",
   "language": "python",
   "name": "python3"
  },
  "language_info": {
   "codemirror_mode": {
    "name": "ipython",
    "version": 3
   },
   "file_extension": ".py",
   "mimetype": "text/x-python",
   "name": "python",
   "nbconvert_exporter": "python",
   "pygments_lexer": "ipython3",
   "version": "3.9.13"
  },
  "toc": {
   "base_numbering": 1,
   "nav_menu": {},
   "number_sections": false,
   "sideBar": true,
   "skip_h1_title": false,
   "title_cell": "Table of Contents",
   "title_sidebar": "Contents",
   "toc_cell": true,
   "toc_position": {
    "height": "calc(100% - 180px)",
    "left": "10px",
    "top": "150px",
    "width": "426.667px"
   },
   "toc_section_display": true,
   "toc_window_display": false
  }
 },
 "nbformat": 4,
 "nbformat_minor": 5
}
