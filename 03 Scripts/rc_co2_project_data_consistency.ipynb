{
 "cells": [
  {
   "cell_type": "markdown",
   "id": "a59392bc",
   "metadata": {
    "toc": true
   },
   "source": [
    "<h1>rc_co2_project_data_consistency<span class=\"tocSkip\"></span></h1>\n",
    "<div class=\"toc\"><ul class=\"toc-item\"><li><span><a href=\"#01-Import-libraries\" data-toc-modified-id=\"01-Import-libraries-1\">01 Import libraries</a></span></li><li><span><a href=\"#02-Create-path\" data-toc-modified-id=\"02-Create-path-2\">02 Create path</a></span></li><li><span><a href=\"#03-Import-data\" data-toc-modified-id=\"03-Import-data-3\">03 Import data</a></span></li><li><span><a href=\"#04-Shape-and-Size-of-data\" data-toc-modified-id=\"04-Shape-and-Size-of-data-4\">04 Shape and Size of data</a></span></li><li><span><a href=\"#05-Check-for-mixed-data-type\" data-toc-modified-id=\"05-Check-for-mixed-data-type-5\">05 Check for mixed data type</a></span></li><li><span><a href=\"#06-Check-for-missing-values\" data-toc-modified-id=\"06-Check-for-missing-values-6\">06 Check for missing values</a></span></li><li><span><a href=\"#07-Check-each-dataframe-for-duplicates\" data-toc-modified-id=\"07-Check-each-dataframe-for-duplicates-7\">07 Check each dataframe for duplicates</a></span></li><li><span><a href=\"#08-Merge-df_life-with-df_carbon\" data-toc-modified-id=\"08-Merge-df_life-with-df_carbon-8\">08 Merge df_life with df_carbon</a></span></li><li><span><a href=\"#09-Export-cleaned-data-as-pickle\" data-toc-modified-id=\"09-Export-cleaned-data-as-pickle-9\">09 Export cleaned data as pickle</a></span></li><li><span><a href=\"#10-check-for-missing-values-in-megered-data\" data-toc-modified-id=\"10-check-for-missing-values-in-megered-data-10\">10 check for missing values in megered data</a></span></li><li><span><a href=\"#11-Check-for-duplicates-in-df_full_clean\" data-toc-modified-id=\"11-Check-for-duplicates-in-df_full_clean-11\">11 Check for duplicates in df_full_clean</a></span></li></ul></div>"
   ]
  },
  {
   "cell_type": "markdown",
   "id": "c8e54ff3",
   "metadata": {},
   "source": [
    "## 01 Import libraries"
   ]
  },
  {
   "cell_type": "code",
   "execution_count": 1,
   "id": "c9423a25",
   "metadata": {},
   "outputs": [],
   "source": [
    "# Import libraries\n",
    "\n",
    "import pandas as pd\n",
    "import numpy as np\n",
    "import os"
   ]
  },
  {
   "cell_type": "markdown",
   "id": "29f4040d",
   "metadata": {},
   "source": [
    "## 02 Create path"
   ]
  },
  {
   "cell_type": "code",
   "execution_count": 2,
   "id": "830d80c4",
   "metadata": {},
   "outputs": [
    {
     "data": {
      "text/plain": [
       "'C:\\\\Users\\\\rober_fjs0dbr\\\\OneDrive\\\\Desktop\\\\robert_cheadle_portfolio\\\\rc_final_project\\\\02 Data\\\\Prepared Data'"
      ]
     },
     "execution_count": 2,
     "metadata": {},
     "output_type": "execute_result"
    }
   ],
   "source": [
    "#create path to data sets\n",
    "\n",
    "path = r'C:\\Users\\rober_fjs0dbr\\OneDrive\\Desktop\\robert_cheadle_portfolio\\rc_final_project\\02 Data\\Prepared Data'\n",
    "\n",
    "path"
   ]
  },
  {
   "cell_type": "markdown",
   "id": "ed69ff1e",
   "metadata": {},
   "source": [
    "## 03 Import data"
   ]
  },
  {
   "cell_type": "code",
   "execution_count": 3,
   "id": "42ac0dee",
   "metadata": {},
   "outputs": [],
   "source": [
    "# orders data set as df_carbon\n",
    "\n",
    "df_carbon = pd.read_csv(os.path.join(path, 'carbon_wrangled.csv'), index_col = False)\n",
    "\n",
    "df_life = pd.read_csv(os.path.join(path, 'life_wrangled.csv'), index_col = False)"
   ]
  },
  {
   "cell_type": "markdown",
   "id": "30ab8a0b",
   "metadata": {},
   "source": [
    "## 04 Shape and Size of data"
   ]
  },
  {
   "cell_type": "code",
   "execution_count": 4,
   "id": "8ccaa70d",
   "metadata": {},
   "outputs": [
    {
     "data": {
      "text/plain": [
       "(8321, 8)"
      ]
     },
     "execution_count": 4,
     "metadata": {},
     "output_type": "execute_result"
    }
   ],
   "source": [
    "# shape of co2 data\n",
    "\n",
    "df_carbon.shape"
   ]
  },
  {
   "cell_type": "code",
   "execution_count": 5,
   "id": "b09fad89",
   "metadata": {},
   "outputs": [
    {
     "data": {
      "text/plain": [
       "(6646, 5)"
      ]
     },
     "execution_count": 5,
     "metadata": {},
     "output_type": "execute_result"
    }
   ],
   "source": [
    "# shape of life expectancy data\n",
    "\n",
    "df_life.shape"
   ]
  },
  {
   "cell_type": "markdown",
   "id": "dc2126a4",
   "metadata": {},
   "source": [
    "## 05 Check for mixed data type"
   ]
  },
  {
   "cell_type": "code",
   "execution_count": 6,
   "id": "0521da96",
   "metadata": {},
   "outputs": [
    {
     "name": "stdout",
     "output_type": "stream",
     "text": [
      "iso_code\n"
     ]
    }
   ],
   "source": [
    "# check for mixed data types in df_carbon\n",
    "\n",
    "for col in df_carbon.columns.tolist():\n",
    "  weird = (df_carbon[[col]].applymap(type) != df_carbon[[col]].iloc[0].apply(type)).any(axis = 1)\n",
    "  if len (df_carbon[weird]) > 0:\n",
    "    print (col)"
   ]
  },
  {
   "cell_type": "code",
   "execution_count": 7,
   "id": "323c1566",
   "metadata": {},
   "outputs": [],
   "source": [
    "# change iso_code to string\n",
    "\n",
    "df_carbon['iso_code'] = df_carbon['iso_code'].astype('str')"
   ]
  },
  {
   "cell_type": "code",
   "execution_count": 8,
   "id": "9c2c4f08",
   "metadata": {},
   "outputs": [],
   "source": [
    "# check for mixed data types in df_carbon\n",
    "\n",
    "for col in df_carbon.columns.tolist():\n",
    "  weird = (df_carbon[[col]].applymap(type) != df_carbon[[col]].iloc[0].apply(type)).any(axis = 1)\n",
    "  if len (df_carbon[weird]) > 0:\n",
    "    print (col)"
   ]
  },
  {
   "cell_type": "code",
   "execution_count": 9,
   "id": "54954cad",
   "metadata": {},
   "outputs": [
    {
     "name": "stdout",
     "output_type": "stream",
     "text": [
      "iso_code\n"
     ]
    }
   ],
   "source": [
    "# check for mixed data types in df_life\n",
    "\n",
    "for col in df_life.columns.tolist():\n",
    "  weird2 = (df_life[[col]].applymap(type) != df_life[[col]].iloc[0].apply(type)).any(axis = 1)\n",
    "  if len (df_life[weird2]) > 0:\n",
    "    print (col)"
   ]
  },
  {
   "cell_type": "code",
   "execution_count": 10,
   "id": "f7bdb162",
   "metadata": {},
   "outputs": [],
   "source": [
    "# change iso_code to string\n",
    "\n",
    "df_life['iso_code'] = df_life['iso_code'].astype('str')"
   ]
  },
  {
   "cell_type": "code",
   "execution_count": 11,
   "id": "52cec437",
   "metadata": {},
   "outputs": [],
   "source": [
    "# check for mixed data types in df_life\n",
    "\n",
    "for col in df_life.columns.tolist():\n",
    "  weird2 = (df_life[[col]].applymap(type) != df_life[[col]].iloc[0].apply(type)).any(axis = 1)\n",
    "  if len (df_life[weird2]) > 0:\n",
    "    print (col)"
   ]
  },
  {
   "cell_type": "markdown",
   "id": "d4f15d6a",
   "metadata": {},
   "source": [
    "## 06 Check for missing values"
   ]
  },
  {
   "cell_type": "code",
   "execution_count": 12,
   "id": "2aeeec45",
   "metadata": {},
   "outputs": [
    {
     "data": {
      "text/plain": [
       "Unnamed: 0       0\n",
       "country          0\n",
       "year             0\n",
       "iso_code         0\n",
       "population     653\n",
       "gdp           3532\n",
       "co2            402\n",
       "trade_co2     4062\n",
       "dtype: int64"
      ]
     },
     "execution_count": 12,
     "metadata": {},
     "output_type": "execute_result"
    }
   ],
   "source": [
    "# check for missing values in df_carbon\n",
    "\n",
    "df_carbon.isnull().sum()"
   ]
  },
  {
   "cell_type": "code",
   "execution_count": 13,
   "id": "779f7094",
   "metadata": {},
   "outputs": [
    {
     "data": {
      "text/plain": [
       "Unnamed: 0         0\n",
       "country            0\n",
       "iso_code           0\n",
       "year               0\n",
       "life_expectancy    0\n",
       "dtype: int64"
      ]
     },
     "execution_count": 13,
     "metadata": {},
     "output_type": "execute_result"
    }
   ],
   "source": [
    "# check for missing values in df_life\n",
    "\n",
    "df_life.isnull().sum()"
   ]
  },
  {
   "cell_type": "code",
   "execution_count": 14,
   "id": "0bfede29",
   "metadata": {},
   "outputs": [],
   "source": [
    "# drop column trade_co2 too many missing values\n",
    "\n",
    "df_carbon = df_carbon.drop(['trade_co2'], axis=1)"
   ]
  },
  {
   "cell_type": "code",
   "execution_count": 15,
   "id": "4b0fe5e2",
   "metadata": {},
   "outputs": [
    {
     "data": {
      "text/plain": [
       "Unnamed: 0       0\n",
       "country          0\n",
       "year             0\n",
       "iso_code         0\n",
       "population     653\n",
       "gdp           3532\n",
       "co2            402\n",
       "dtype: int64"
      ]
     },
     "execution_count": 15,
     "metadata": {},
     "output_type": "execute_result"
    }
   ],
   "source": [
    "# check for missing values in df_carbon\n",
    "\n",
    "df_carbon.isnull().sum()"
   ]
  },
  {
   "cell_type": "code",
   "execution_count": 16,
   "id": "a21a052f",
   "metadata": {},
   "outputs": [
    {
     "data": {
      "text/html": [
       "<div>\n",
       "<style scoped>\n",
       "    .dataframe tbody tr th:only-of-type {\n",
       "        vertical-align: middle;\n",
       "    }\n",
       "\n",
       "    .dataframe tbody tr th {\n",
       "        vertical-align: top;\n",
       "    }\n",
       "\n",
       "    .dataframe thead th {\n",
       "        text-align: right;\n",
       "    }\n",
       "</style>\n",
       "<table border=\"1\" class=\"dataframe\">\n",
       "  <thead>\n",
       "    <tr style=\"text-align: right;\">\n",
       "      <th></th>\n",
       "      <th>country</th>\n",
       "      <th>Number of NaN Values</th>\n",
       "    </tr>\n",
       "  </thead>\n",
       "  <tbody>\n",
       "    <tr>\n",
       "      <th>2</th>\n",
       "      <td>Africa (GCP)</td>\n",
       "      <td>32</td>\n",
       "    </tr>\n",
       "    <tr>\n",
       "      <th>3</th>\n",
       "      <td>Aland Islands</td>\n",
       "      <td>32</td>\n",
       "    </tr>\n",
       "    <tr>\n",
       "      <th>10</th>\n",
       "      <td>Antarctica</td>\n",
       "      <td>18</td>\n",
       "    </tr>\n",
       "    <tr>\n",
       "      <th>16</th>\n",
       "      <td>Asia (GCP)</td>\n",
       "      <td>32</td>\n",
       "    </tr>\n",
       "    <tr>\n",
       "      <th>17</th>\n",
       "      <td>Asia (excl. China and India)</td>\n",
       "      <td>32</td>\n",
       "    </tr>\n",
       "    <tr>\n",
       "      <th>46</th>\n",
       "      <td>Central America (GCP)</td>\n",
       "      <td>32</td>\n",
       "    </tr>\n",
       "    <tr>\n",
       "      <th>75</th>\n",
       "      <td>Europe (GCP)</td>\n",
       "      <td>32</td>\n",
       "    </tr>\n",
       "    <tr>\n",
       "      <th>76</th>\n",
       "      <td>Europe (excl. EU-27)</td>\n",
       "      <td>32</td>\n",
       "    </tr>\n",
       "    <tr>\n",
       "      <th>77</th>\n",
       "      <td>Europe (excl. EU-28)</td>\n",
       "      <td>32</td>\n",
       "    </tr>\n",
       "    <tr>\n",
       "      <th>78</th>\n",
       "      <td>European Union (27)</td>\n",
       "      <td>32</td>\n",
       "    </tr>\n",
       "    <tr>\n",
       "      <th>79</th>\n",
       "      <td>European Union (27) (GCP)</td>\n",
       "      <td>32</td>\n",
       "    </tr>\n",
       "    <tr>\n",
       "      <th>80</th>\n",
       "      <td>European Union (28)</td>\n",
       "      <td>32</td>\n",
       "    </tr>\n",
       "    <tr>\n",
       "      <th>110</th>\n",
       "      <td>International transport</td>\n",
       "      <td>32</td>\n",
       "    </tr>\n",
       "    <tr>\n",
       "      <th>126</th>\n",
       "      <td>Kuwaiti Oil Fires (GCP)</td>\n",
       "      <td>1</td>\n",
       "    </tr>\n",
       "    <tr>\n",
       "      <th>153</th>\n",
       "      <td>Middle East (GCP)</td>\n",
       "      <td>32</td>\n",
       "    </tr>\n",
       "    <tr>\n",
       "      <th>165</th>\n",
       "      <td>Netherlands Antilles</td>\n",
       "      <td>13</td>\n",
       "    </tr>\n",
       "    <tr>\n",
       "      <th>172</th>\n",
       "      <td>Non-OECD (GCP)</td>\n",
       "      <td>32</td>\n",
       "    </tr>\n",
       "    <tr>\n",
       "      <th>174</th>\n",
       "      <td>North America (GCP)</td>\n",
       "      <td>32</td>\n",
       "    </tr>\n",
       "    <tr>\n",
       "      <th>175</th>\n",
       "      <td>North America (excl. USA)</td>\n",
       "      <td>32</td>\n",
       "    </tr>\n",
       "    <tr>\n",
       "      <th>179</th>\n",
       "      <td>OECD (GCP)</td>\n",
       "      <td>32</td>\n",
       "    </tr>\n",
       "    <tr>\n",
       "      <th>181</th>\n",
       "      <td>Oceania (GCP)</td>\n",
       "      <td>32</td>\n",
       "    </tr>\n",
       "    <tr>\n",
       "      <th>220</th>\n",
       "      <td>South America (GCP)</td>\n",
       "      <td>32</td>\n",
       "    </tr>\n",
       "    <tr>\n",
       "      <th>227</th>\n",
       "      <td>Svalbard and Jan Mayen</td>\n",
       "      <td>13</td>\n",
       "    </tr>\n",
       "  </tbody>\n",
       "</table>\n",
       "</div>"
      ],
      "text/plain": [
       "                          country  Number of NaN Values\n",
       "2                    Africa (GCP)                    32\n",
       "3                   Aland Islands                    32\n",
       "10                     Antarctica                    18\n",
       "16                     Asia (GCP)                    32\n",
       "17   Asia (excl. China and India)                    32\n",
       "46          Central America (GCP)                    32\n",
       "75                   Europe (GCP)                    32\n",
       "76           Europe (excl. EU-27)                    32\n",
       "77           Europe (excl. EU-28)                    32\n",
       "78            European Union (27)                    32\n",
       "79      European Union (27) (GCP)                    32\n",
       "80            European Union (28)                    32\n",
       "110       International transport                    32\n",
       "126       Kuwaiti Oil Fires (GCP)                     1\n",
       "153             Middle East (GCP)                    32\n",
       "165          Netherlands Antilles                    13\n",
       "172                Non-OECD (GCP)                    32\n",
       "174           North America (GCP)                    32\n",
       "175     North America (excl. USA)                    32\n",
       "179                    OECD (GCP)                    32\n",
       "181                 Oceania (GCP)                    32\n",
       "220           South America (GCP)                    32\n",
       "227        Svalbard and Jan Mayen                    13"
      ]
     },
     "execution_count": 16,
     "metadata": {},
     "output_type": "execute_result"
    }
   ],
   "source": [
    "# check for population NaN by country in df_carbon\n",
    "\n",
    "Unique_Country = df_carbon['country'].unique()\n",
    "Col1 = 'population'\n",
    "\n",
    "NullCount = []\n",
    "for i in Unique_Country:\n",
    "    s = df_carbon[df_carbon['country']==i][Col1].isnull().sum()\n",
    "    NullCount.append(s)\n",
    "\n",
    "df_carbon_country_nan = pd.DataFrame({'country': Unique_Country,\n",
    "              'Number of NaN Values': NullCount})\n",
    "df_carbon_country_nan = df_carbon_country_nan[df_carbon_country_nan['Number of NaN Values']!=0]\n",
    "df_carbon_country_nan"
   ]
  },
  {
   "cell_type": "code",
   "execution_count": 17,
   "id": "5428133e",
   "metadata": {},
   "outputs": [
    {
     "data": {
      "text/html": [
       "<div>\n",
       "<style scoped>\n",
       "    .dataframe tbody tr th:only-of-type {\n",
       "        vertical-align: middle;\n",
       "    }\n",
       "\n",
       "    .dataframe tbody tr th {\n",
       "        vertical-align: top;\n",
       "    }\n",
       "\n",
       "    .dataframe thead th {\n",
       "        text-align: right;\n",
       "    }\n",
       "</style>\n",
       "<table border=\"1\" class=\"dataframe\">\n",
       "  <thead>\n",
       "    <tr style=\"text-align: right;\">\n",
       "      <th></th>\n",
       "      <th>country</th>\n",
       "      <th>Number of NaN Values</th>\n",
       "    </tr>\n",
       "  </thead>\n",
       "  <tbody>\n",
       "    <tr>\n",
       "      <th>0</th>\n",
       "      <td>Afghanistan</td>\n",
       "      <td>3</td>\n",
       "    </tr>\n",
       "    <tr>\n",
       "      <th>1</th>\n",
       "      <td>Africa</td>\n",
       "      <td>32</td>\n",
       "    </tr>\n",
       "    <tr>\n",
       "      <th>2</th>\n",
       "      <td>Africa (GCP)</td>\n",
       "      <td>32</td>\n",
       "    </tr>\n",
       "    <tr>\n",
       "      <th>3</th>\n",
       "      <td>Aland Islands</td>\n",
       "      <td>32</td>\n",
       "    </tr>\n",
       "    <tr>\n",
       "      <th>4</th>\n",
       "      <td>Albania</td>\n",
       "      <td>3</td>\n",
       "    </tr>\n",
       "    <tr>\n",
       "      <th>...</th>\n",
       "      <td>...</td>\n",
       "      <td>...</td>\n",
       "    </tr>\n",
       "    <tr>\n",
       "      <th>257</th>\n",
       "      <td>Western Sahara</td>\n",
       "      <td>32</td>\n",
       "    </tr>\n",
       "    <tr>\n",
       "      <th>258</th>\n",
       "      <td>World</td>\n",
       "      <td>26</td>\n",
       "    </tr>\n",
       "    <tr>\n",
       "      <th>259</th>\n",
       "      <td>Yemen</td>\n",
       "      <td>3</td>\n",
       "    </tr>\n",
       "    <tr>\n",
       "      <th>260</th>\n",
       "      <td>Zambia</td>\n",
       "      <td>3</td>\n",
       "    </tr>\n",
       "    <tr>\n",
       "      <th>261</th>\n",
       "      <td>Zimbabwe</td>\n",
       "      <td>3</td>\n",
       "    </tr>\n",
       "  </tbody>\n",
       "</table>\n",
       "<p>262 rows × 2 columns</p>\n",
       "</div>"
      ],
      "text/plain": [
       "            country  Number of NaN Values\n",
       "0       Afghanistan                     3\n",
       "1            Africa                    32\n",
       "2      Africa (GCP)                    32\n",
       "3     Aland Islands                    32\n",
       "4           Albania                     3\n",
       "..              ...                   ...\n",
       "257  Western Sahara                    32\n",
       "258           World                    26\n",
       "259           Yemen                     3\n",
       "260          Zambia                     3\n",
       "261        Zimbabwe                     3\n",
       "\n",
       "[262 rows x 2 columns]"
      ]
     },
     "execution_count": 17,
     "metadata": {},
     "output_type": "execute_result"
    }
   ],
   "source": [
    "# check for gdp NaN by country in df_carbon\n",
    "\n",
    "Unique_GDP = df_carbon['country'].unique()\n",
    "Col1 = 'gdp'\n",
    "\n",
    "NullCount = []\n",
    "for i in Unique_GDP:\n",
    "    s = df_carbon[df_carbon['country']==i][Col1].isnull().sum()\n",
    "    NullCount.append(s)\n",
    "\n",
    "df_carbon_gdp_nan = pd.DataFrame({'country': Unique_GDP,\n",
    "              'Number of NaN Values': NullCount})\n",
    "df_carbon_gdp_nan = df_carbon_gdp_nan[df_carbon_gdp_nan['Number of NaN Values']!=0]\n",
    "df_carbon_gdp_nan"
   ]
  },
  {
   "cell_type": "markdown",
   "id": "73812683",
   "metadata": {},
   "source": [
    "NaN values will be left for now"
   ]
  },
  {
   "cell_type": "markdown",
   "id": "c6ab8902",
   "metadata": {},
   "source": [
    "## 07 Check each dataframe for duplicates"
   ]
  },
  {
   "cell_type": "code",
   "execution_count": 18,
   "id": "13bbd077",
   "metadata": {},
   "outputs": [
    {
     "data": {
      "text/html": [
       "<div>\n",
       "<style scoped>\n",
       "    .dataframe tbody tr th:only-of-type {\n",
       "        vertical-align: middle;\n",
       "    }\n",
       "\n",
       "    .dataframe tbody tr th {\n",
       "        vertical-align: top;\n",
       "    }\n",
       "\n",
       "    .dataframe thead th {\n",
       "        text-align: right;\n",
       "    }\n",
       "</style>\n",
       "<table border=\"1\" class=\"dataframe\">\n",
       "  <thead>\n",
       "    <tr style=\"text-align: right;\">\n",
       "      <th></th>\n",
       "      <th>Unnamed: 0</th>\n",
       "      <th>country</th>\n",
       "      <th>year</th>\n",
       "      <th>iso_code</th>\n",
       "      <th>population</th>\n",
       "      <th>gdp</th>\n",
       "      <th>co2</th>\n",
       "    </tr>\n",
       "  </thead>\n",
       "  <tbody>\n",
       "  </tbody>\n",
       "</table>\n",
       "</div>"
      ],
      "text/plain": [
       "Empty DataFrame\n",
       "Columns: [Unnamed: 0, country, year, iso_code, population, gdp, co2]\n",
       "Index: []"
      ]
     },
     "execution_count": 18,
     "metadata": {},
     "output_type": "execute_result"
    }
   ],
   "source": [
    "# check for duplicates in df_carbon\n",
    "\n",
    "df_carbon_dups = df_carbon[df_carbon.duplicated()]\n",
    "\n",
    "df_carbon_dups"
   ]
  },
  {
   "cell_type": "markdown",
   "id": "fb7846ec",
   "metadata": {},
   "source": [
    "No duplicates in df_carbon"
   ]
  },
  {
   "cell_type": "code",
   "execution_count": 19,
   "id": "52f01aeb",
   "metadata": {},
   "outputs": [
    {
     "data": {
      "text/html": [
       "<div>\n",
       "<style scoped>\n",
       "    .dataframe tbody tr th:only-of-type {\n",
       "        vertical-align: middle;\n",
       "    }\n",
       "\n",
       "    .dataframe tbody tr th {\n",
       "        vertical-align: top;\n",
       "    }\n",
       "\n",
       "    .dataframe thead th {\n",
       "        text-align: right;\n",
       "    }\n",
       "</style>\n",
       "<table border=\"1\" class=\"dataframe\">\n",
       "  <thead>\n",
       "    <tr style=\"text-align: right;\">\n",
       "      <th></th>\n",
       "      <th>Unnamed: 0</th>\n",
       "      <th>country</th>\n",
       "      <th>iso_code</th>\n",
       "      <th>year</th>\n",
       "      <th>life_expectancy</th>\n",
       "    </tr>\n",
       "  </thead>\n",
       "  <tbody>\n",
       "  </tbody>\n",
       "</table>\n",
       "</div>"
      ],
      "text/plain": [
       "Empty DataFrame\n",
       "Columns: [Unnamed: 0, country, iso_code, year, life_expectancy]\n",
       "Index: []"
      ]
     },
     "execution_count": 19,
     "metadata": {},
     "output_type": "execute_result"
    }
   ],
   "source": [
    "# check for duplicates in df_carbon\n",
    "\n",
    "df_life_dups = df_life[df_life.duplicated()]\n",
    "\n",
    "df_life_dups"
   ]
  },
  {
   "cell_type": "markdown",
   "id": "f92d5823",
   "metadata": {},
   "source": [
    "No duplicates in df_carbon"
   ]
  },
  {
   "cell_type": "markdown",
   "id": "1dc73604",
   "metadata": {},
   "source": [
    "## 08 Merge df_life with df_carbon"
   ]
  },
  {
   "cell_type": "code",
   "execution_count": 20,
   "id": "164a177f",
   "metadata": {},
   "outputs": [],
   "source": [
    "# merge df_life_with df_carbon\n",
    "\n",
    "df_full = df_carbon.merge(df_life, on = ['country', 'year'], how = 'inner', indicator = True)"
   ]
  },
  {
   "cell_type": "code",
   "execution_count": 21,
   "id": "dca00247",
   "metadata": {},
   "outputs": [
    {
     "data": {
      "text/html": [
       "<div>\n",
       "<style scoped>\n",
       "    .dataframe tbody tr th:only-of-type {\n",
       "        vertical-align: middle;\n",
       "    }\n",
       "\n",
       "    .dataframe tbody tr th {\n",
       "        vertical-align: top;\n",
       "    }\n",
       "\n",
       "    .dataframe thead th {\n",
       "        text-align: right;\n",
       "    }\n",
       "</style>\n",
       "<table border=\"1\" class=\"dataframe\">\n",
       "  <thead>\n",
       "    <tr style=\"text-align: right;\">\n",
       "      <th></th>\n",
       "      <th>Unnamed: 0_x</th>\n",
       "      <th>country</th>\n",
       "      <th>year</th>\n",
       "      <th>iso_code_x</th>\n",
       "      <th>population</th>\n",
       "      <th>gdp</th>\n",
       "      <th>co2</th>\n",
       "      <th>Unnamed: 0_y</th>\n",
       "      <th>iso_code_y</th>\n",
       "      <th>life_expectancy</th>\n",
       "      <th>_merge</th>\n",
       "    </tr>\n",
       "  </thead>\n",
       "  <tbody>\n",
       "    <tr>\n",
       "      <th>0</th>\n",
       "      <td>140</td>\n",
       "      <td>Afghanistan</td>\n",
       "      <td>1990</td>\n",
       "      <td>AFG</td>\n",
       "      <td>10694804.0</td>\n",
       "      <td>1.306598e+10</td>\n",
       "      <td>2.024</td>\n",
       "      <td>30</td>\n",
       "      <td>AFG</td>\n",
       "      <td>50.331001</td>\n",
       "      <td>both</td>\n",
       "    </tr>\n",
       "    <tr>\n",
       "      <th>1</th>\n",
       "      <td>141</td>\n",
       "      <td>Afghanistan</td>\n",
       "      <td>1991</td>\n",
       "      <td>AFG</td>\n",
       "      <td>10745168.0</td>\n",
       "      <td>1.204736e+10</td>\n",
       "      <td>1.914</td>\n",
       "      <td>31</td>\n",
       "      <td>AFG</td>\n",
       "      <td>50.999001</td>\n",
       "      <td>both</td>\n",
       "    </tr>\n",
       "    <tr>\n",
       "      <th>2</th>\n",
       "      <td>142</td>\n",
       "      <td>Afghanistan</td>\n",
       "      <td>1992</td>\n",
       "      <td>AFG</td>\n",
       "      <td>12057436.0</td>\n",
       "      <td>1.267754e+10</td>\n",
       "      <td>1.482</td>\n",
       "      <td>32</td>\n",
       "      <td>AFG</td>\n",
       "      <td>51.640999</td>\n",
       "      <td>both</td>\n",
       "    </tr>\n",
       "    <tr>\n",
       "      <th>3</th>\n",
       "      <td>143</td>\n",
       "      <td>Afghanistan</td>\n",
       "      <td>1993</td>\n",
       "      <td>AFG</td>\n",
       "      <td>14003764.0</td>\n",
       "      <td>9.834581e+09</td>\n",
       "      <td>1.487</td>\n",
       "      <td>33</td>\n",
       "      <td>AFG</td>\n",
       "      <td>52.256001</td>\n",
       "      <td>both</td>\n",
       "    </tr>\n",
       "    <tr>\n",
       "      <th>4</th>\n",
       "      <td>144</td>\n",
       "      <td>Afghanistan</td>\n",
       "      <td>1994</td>\n",
       "      <td>AFG</td>\n",
       "      <td>15455560.0</td>\n",
       "      <td>7.919857e+09</td>\n",
       "      <td>1.454</td>\n",
       "      <td>34</td>\n",
       "      <td>AFG</td>\n",
       "      <td>52.841999</td>\n",
       "      <td>both</td>\n",
       "    </tr>\n",
       "  </tbody>\n",
       "</table>\n",
       "</div>"
      ],
      "text/plain": [
       "   Unnamed: 0_x      country  year iso_code_x  population           gdp  \\\n",
       "0           140  Afghanistan  1990        AFG  10694804.0  1.306598e+10   \n",
       "1           141  Afghanistan  1991        AFG  10745168.0  1.204736e+10   \n",
       "2           142  Afghanistan  1992        AFG  12057436.0  1.267754e+10   \n",
       "3           143  Afghanistan  1993        AFG  14003764.0  9.834581e+09   \n",
       "4           144  Afghanistan  1994        AFG  15455560.0  7.919857e+09   \n",
       "\n",
       "     co2  Unnamed: 0_y iso_code_y  life_expectancy _merge  \n",
       "0  2.024            30        AFG        50.331001   both  \n",
       "1  1.914            31        AFG        50.999001   both  \n",
       "2  1.482            32        AFG        51.640999   both  \n",
       "3  1.487            33        AFG        52.256001   both  \n",
       "4  1.454            34        AFG        52.841999   both  "
      ]
     },
     "execution_count": 21,
     "metadata": {},
     "output_type": "execute_result"
    }
   ],
   "source": [
    "df_full.head()"
   ]
  },
  {
   "cell_type": "code",
   "execution_count": 22,
   "id": "203a4006",
   "metadata": {},
   "outputs": [
    {
     "data": {
      "text/plain": [
       "both          6162\n",
       "left_only        0\n",
       "right_only       0\n",
       "Name: _merge, dtype: int64"
      ]
     },
     "execution_count": 22,
     "metadata": {},
     "output_type": "execute_result"
    }
   ],
   "source": [
    "df_full['_merge'].value_counts()"
   ]
  },
  {
   "cell_type": "code",
   "execution_count": 23,
   "id": "7de068c3",
   "metadata": {},
   "outputs": [],
   "source": [
    "# drop Unnamed: 0_x, Unnamed: 0_y, iso_code_y, and _merge\n",
    "\n"
   ]
  },
  {
   "cell_type": "code",
   "execution_count": 24,
   "id": "e1df16be",
   "metadata": {},
   "outputs": [
    {
     "data": {
      "text/html": [
       "<div>\n",
       "<style scoped>\n",
       "    .dataframe tbody tr th:only-of-type {\n",
       "        vertical-align: middle;\n",
       "    }\n",
       "\n",
       "    .dataframe tbody tr th {\n",
       "        vertical-align: top;\n",
       "    }\n",
       "\n",
       "    .dataframe thead th {\n",
       "        text-align: right;\n",
       "    }\n",
       "</style>\n",
       "<table border=\"1\" class=\"dataframe\">\n",
       "  <thead>\n",
       "    <tr style=\"text-align: right;\">\n",
       "      <th></th>\n",
       "      <th>country</th>\n",
       "      <th>year</th>\n",
       "      <th>iso_code_x</th>\n",
       "      <th>population</th>\n",
       "      <th>gdp</th>\n",
       "      <th>co2</th>\n",
       "      <th>life_expectancy</th>\n",
       "    </tr>\n",
       "  </thead>\n",
       "  <tbody>\n",
       "    <tr>\n",
       "      <th>0</th>\n",
       "      <td>Afghanistan</td>\n",
       "      <td>1990</td>\n",
       "      <td>AFG</td>\n",
       "      <td>10694804.0</td>\n",
       "      <td>1.306598e+10</td>\n",
       "      <td>2.024</td>\n",
       "      <td>50.331001</td>\n",
       "    </tr>\n",
       "    <tr>\n",
       "      <th>1</th>\n",
       "      <td>Afghanistan</td>\n",
       "      <td>1991</td>\n",
       "      <td>AFG</td>\n",
       "      <td>10745168.0</td>\n",
       "      <td>1.204736e+10</td>\n",
       "      <td>1.914</td>\n",
       "      <td>50.999001</td>\n",
       "    </tr>\n",
       "    <tr>\n",
       "      <th>2</th>\n",
       "      <td>Afghanistan</td>\n",
       "      <td>1992</td>\n",
       "      <td>AFG</td>\n",
       "      <td>12057436.0</td>\n",
       "      <td>1.267754e+10</td>\n",
       "      <td>1.482</td>\n",
       "      <td>51.640999</td>\n",
       "    </tr>\n",
       "    <tr>\n",
       "      <th>3</th>\n",
       "      <td>Afghanistan</td>\n",
       "      <td>1993</td>\n",
       "      <td>AFG</td>\n",
       "      <td>14003764.0</td>\n",
       "      <td>9.834581e+09</td>\n",
       "      <td>1.487</td>\n",
       "      <td>52.256001</td>\n",
       "    </tr>\n",
       "    <tr>\n",
       "      <th>4</th>\n",
       "      <td>Afghanistan</td>\n",
       "      <td>1994</td>\n",
       "      <td>AFG</td>\n",
       "      <td>15455560.0</td>\n",
       "      <td>7.919857e+09</td>\n",
       "      <td>1.454</td>\n",
       "      <td>52.841999</td>\n",
       "    </tr>\n",
       "  </tbody>\n",
       "</table>\n",
       "</div>"
      ],
      "text/plain": [
       "       country  year iso_code_x  population           gdp    co2  \\\n",
       "0  Afghanistan  1990        AFG  10694804.0  1.306598e+10  2.024   \n",
       "1  Afghanistan  1991        AFG  10745168.0  1.204736e+10  1.914   \n",
       "2  Afghanistan  1992        AFG  12057436.0  1.267754e+10  1.482   \n",
       "3  Afghanistan  1993        AFG  14003764.0  9.834581e+09  1.487   \n",
       "4  Afghanistan  1994        AFG  15455560.0  7.919857e+09  1.454   \n",
       "\n",
       "   life_expectancy  \n",
       "0        50.331001  \n",
       "1        50.999001  \n",
       "2        51.640999  \n",
       "3        52.256001  \n",
       "4        52.841999  "
      ]
     },
     "execution_count": 24,
     "metadata": {},
     "output_type": "execute_result"
    }
   ],
   "source": [
    "df_full = df_full.drop(['Unnamed: 0_x', 'Unnamed: 0_y', 'iso_code_y', '_merge'], axis=1)\n",
    "\n",
    "df_full.head()"
   ]
  },
  {
   "cell_type": "code",
   "execution_count": 25,
   "id": "527c0c70",
   "metadata": {
    "scrolled": true
   },
   "outputs": [
    {
     "data": {
      "text/html": [
       "<div>\n",
       "<style scoped>\n",
       "    .dataframe tbody tr th:only-of-type {\n",
       "        vertical-align: middle;\n",
       "    }\n",
       "\n",
       "    .dataframe tbody tr th {\n",
       "        vertical-align: top;\n",
       "    }\n",
       "\n",
       "    .dataframe thead th {\n",
       "        text-align: right;\n",
       "    }\n",
       "</style>\n",
       "<table border=\"1\" class=\"dataframe\">\n",
       "  <thead>\n",
       "    <tr style=\"text-align: right;\">\n",
       "      <th></th>\n",
       "      <th>country</th>\n",
       "      <th>year</th>\n",
       "      <th>population</th>\n",
       "      <th>gdp</th>\n",
       "      <th>co2</th>\n",
       "      <th>life_expectancy</th>\n",
       "    </tr>\n",
       "  </thead>\n",
       "  <tbody>\n",
       "    <tr>\n",
       "      <th>0</th>\n",
       "      <td>Afghanistan</td>\n",
       "      <td>1990</td>\n",
       "      <td>10694804.0</td>\n",
       "      <td>1.306598e+10</td>\n",
       "      <td>2.024</td>\n",
       "      <td>50.331001</td>\n",
       "    </tr>\n",
       "    <tr>\n",
       "      <th>1</th>\n",
       "      <td>Afghanistan</td>\n",
       "      <td>1991</td>\n",
       "      <td>10745168.0</td>\n",
       "      <td>1.204736e+10</td>\n",
       "      <td>1.914</td>\n",
       "      <td>50.999001</td>\n",
       "    </tr>\n",
       "    <tr>\n",
       "      <th>2</th>\n",
       "      <td>Afghanistan</td>\n",
       "      <td>1992</td>\n",
       "      <td>12057436.0</td>\n",
       "      <td>1.267754e+10</td>\n",
       "      <td>1.482</td>\n",
       "      <td>51.640999</td>\n",
       "    </tr>\n",
       "    <tr>\n",
       "      <th>3</th>\n",
       "      <td>Afghanistan</td>\n",
       "      <td>1993</td>\n",
       "      <td>14003764.0</td>\n",
       "      <td>9.834581e+09</td>\n",
       "      <td>1.487</td>\n",
       "      <td>52.256001</td>\n",
       "    </tr>\n",
       "    <tr>\n",
       "      <th>4</th>\n",
       "      <td>Afghanistan</td>\n",
       "      <td>1994</td>\n",
       "      <td>15455560.0</td>\n",
       "      <td>7.919857e+09</td>\n",
       "      <td>1.454</td>\n",
       "      <td>52.841999</td>\n",
       "    </tr>\n",
       "  </tbody>\n",
       "</table>\n",
       "</div>"
      ],
      "text/plain": [
       "       country  year  population           gdp    co2  life_expectancy\n",
       "0  Afghanistan  1990  10694804.0  1.306598e+10  2.024        50.331001\n",
       "1  Afghanistan  1991  10745168.0  1.204736e+10  1.914        50.999001\n",
       "2  Afghanistan  1992  12057436.0  1.267754e+10  1.482        51.640999\n",
       "3  Afghanistan  1993  14003764.0  9.834581e+09  1.487        52.256001\n",
       "4  Afghanistan  1994  15455560.0  7.919857e+09  1.454        52.841999"
      ]
     },
     "execution_count": 25,
     "metadata": {},
     "output_type": "execute_result"
    }
   ],
   "source": [
    "df_full =  df_full.drop(columns = ['iso_code_x'])\n",
    "\n",
    "df_full.head()"
   ]
  },
  {
   "cell_type": "code",
   "execution_count": 32,
   "id": "ae08bf20",
   "metadata": {},
   "outputs": [
    {
     "data": {
      "text/plain": [
       "(4697, 6)"
      ]
     },
     "execution_count": 32,
     "metadata": {},
     "output_type": "execute_result"
    }
   ],
   "source": [
    "# count rows with NaN\n",
    "\n",
    "df_full_clean = df_full.dropna()\n",
    "\n",
    "df_full_clean.shape"
   ]
  },
  {
   "cell_type": "code",
   "execution_count": 30,
   "id": "53963c7b",
   "metadata": {},
   "outputs": [
    {
     "data": {
      "text/plain": [
       "(1465, 6)"
      ]
     },
     "execution_count": 30,
     "metadata": {},
     "output_type": "execute_result"
    }
   ],
   "source": [
    "# check for NaN in df_full_clean\n",
    "\n",
    "df_full_clean.shape"
   ]
  },
  {
   "cell_type": "markdown",
   "id": "4a96c099",
   "metadata": {},
   "source": [
    "## 09 Export cleaned data as pickle"
   ]
  },
  {
   "cell_type": "code",
   "execution_count": 33,
   "id": "d818b7b6",
   "metadata": {},
   "outputs": [],
   "source": [
    "\n",
    "\n",
    "# Export data to csv\n",
    "\n",
    "df_full_clean.to_csv(os.path.join(path, 'carbon_life_full.csv'))"
   ]
  },
  {
   "cell_type": "markdown",
   "id": "2b1973f0",
   "metadata": {},
   "source": [
    "## 10 check for missing values in megered data"
   ]
  },
  {
   "cell_type": "code",
   "execution_count": 34,
   "id": "20eb33c2",
   "metadata": {},
   "outputs": [
    {
     "data": {
      "text/plain": [
       "country            0\n",
       "year               0\n",
       "population         0\n",
       "gdp                0\n",
       "co2                0\n",
       "life_expectancy    0\n",
       "dtype: int64"
      ]
     },
     "execution_count": 34,
     "metadata": {},
     "output_type": "execute_result"
    }
   ],
   "source": [
    "# check for missing values in df_full\n",
    "\n",
    "df_full_clean.isnull().sum()"
   ]
  },
  {
   "cell_type": "code",
   "execution_count": 35,
   "id": "140ce220",
   "metadata": {},
   "outputs": [
    {
     "data": {
      "text/plain": [
       "country               0\n",
       "year                  0\n",
       "population            0\n",
       "gdp                1436\n",
       "co2                 111\n",
       "life_expectancy       0\n",
       "dtype: int64"
      ]
     },
     "execution_count": 35,
     "metadata": {},
     "output_type": "execute_result"
    }
   ],
   "source": [
    "df_full.isnull().sum()"
   ]
  },
  {
   "cell_type": "markdown",
   "id": "4d608b59",
   "metadata": {},
   "source": [
    "## 11 Check for duplicates in df_full_clean"
   ]
  },
  {
   "cell_type": "code",
   "execution_count": 36,
   "id": "acac63a1",
   "metadata": {},
   "outputs": [
    {
     "data": {
      "text/html": [
       "<div>\n",
       "<style scoped>\n",
       "    .dataframe tbody tr th:only-of-type {\n",
       "        vertical-align: middle;\n",
       "    }\n",
       "\n",
       "    .dataframe tbody tr th {\n",
       "        vertical-align: top;\n",
       "    }\n",
       "\n",
       "    .dataframe thead th {\n",
       "        text-align: right;\n",
       "    }\n",
       "</style>\n",
       "<table border=\"1\" class=\"dataframe\">\n",
       "  <thead>\n",
       "    <tr style=\"text-align: right;\">\n",
       "      <th></th>\n",
       "      <th>country</th>\n",
       "      <th>year</th>\n",
       "      <th>population</th>\n",
       "      <th>gdp</th>\n",
       "      <th>co2</th>\n",
       "      <th>life_expectancy</th>\n",
       "    </tr>\n",
       "  </thead>\n",
       "  <tbody>\n",
       "  </tbody>\n",
       "</table>\n",
       "</div>"
      ],
      "text/plain": [
       "Empty DataFrame\n",
       "Columns: [country, year, population, gdp, co2, life_expectancy]\n",
       "Index: []"
      ]
     },
     "execution_count": 36,
     "metadata": {},
     "output_type": "execute_result"
    }
   ],
   "source": [
    "# check for duplicates in df_full_clean\n",
    "\n",
    "df_full_clean_dups = df_full_clean[df_full_clean.duplicated()]\n",
    "\n",
    "df_full_clean_dups"
   ]
  },
  {
   "cell_type": "code",
   "execution_count": 37,
   "id": "89bc86e1",
   "metadata": {},
   "outputs": [
    {
     "data": {
      "text/plain": [
       "(8321, 7)"
      ]
     },
     "execution_count": 37,
     "metadata": {},
     "output_type": "execute_result"
    }
   ],
   "source": [
    "df_carbon.shape"
   ]
  },
  {
   "cell_type": "code",
   "execution_count": 38,
   "id": "dd4787af",
   "metadata": {},
   "outputs": [
    {
     "data": {
      "text/plain": [
       "(6646, 5)"
      ]
     },
     "execution_count": 38,
     "metadata": {},
     "output_type": "execute_result"
    }
   ],
   "source": [
    "df_life.shape"
   ]
  },
  {
   "cell_type": "code",
   "execution_count": 39,
   "id": "d69d51e0",
   "metadata": {},
   "outputs": [
    {
     "data": {
      "text/plain": [
       "(6162, 6)"
      ]
     },
     "execution_count": 39,
     "metadata": {},
     "output_type": "execute_result"
    }
   ],
   "source": [
    "df_full.shape"
   ]
  },
  {
   "cell_type": "code",
   "execution_count": 40,
   "id": "9f9b53e2",
   "metadata": {},
   "outputs": [
    {
     "data": {
      "text/plain": [
       "(4697, 6)"
      ]
     },
     "execution_count": 40,
     "metadata": {},
     "output_type": "execute_result"
    }
   ],
   "source": [
    "df_full_clean.shape"
   ]
  },
  {
   "cell_type": "code",
   "execution_count": null,
   "id": "6df8528c",
   "metadata": {},
   "outputs": [],
   "source": []
  }
 ],
 "metadata": {
  "kernelspec": {
   "display_name": "Python 3 (ipykernel)",
   "language": "python",
   "name": "python3"
  },
  "language_info": {
   "codemirror_mode": {
    "name": "ipython",
    "version": 3
   },
   "file_extension": ".py",
   "mimetype": "text/x-python",
   "name": "python",
   "nbconvert_exporter": "python",
   "pygments_lexer": "ipython3",
   "version": "3.9.13"
  },
  "toc": {
   "base_numbering": 1,
   "nav_menu": {},
   "number_sections": false,
   "sideBar": true,
   "skip_h1_title": false,
   "title_cell": "rc_co2_project_data_consistency",
   "title_sidebar": "Contents",
   "toc_cell": true,
   "toc_position": {
    "height": "887.778px",
    "left": "22px",
    "top": "-0.33px",
    "width": "426.667px"
   },
   "toc_section_display": true,
   "toc_window_display": false
  }
 },
 "nbformat": 4,
 "nbformat_minor": 5
}
