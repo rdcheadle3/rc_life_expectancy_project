{
 "cells": [
  {
   "cell_type": "markdown",
   "id": "3638eef2",
   "metadata": {
    "toc": true
   },
   "source": [
    "<h1>Table of Contents<span class=\"tocSkip\"></span></h1>\n",
    "<div class=\"toc\"><ul class=\"toc-item\"><li><span><a href=\"#co2-emmisions-and-life-expectancy-supervised-machine-learning-regression-anlaysis\" data-toc-modified-id=\"co2-emmisions-and-life-expectancy-supervised-machine-learning-regression-anlaysis-1\">co2 emmisions and life expectancy supervised machine learning regression anlaysis</a></span><ul class=\"toc-item\"><li><span><a href=\"#01-Import-libraries-and-data\" data-toc-modified-id=\"01-Import-libraries-and-data-1.1\">01 Import libraries and data</a></span></li><li><span><a href=\"#02-Data-wrangling\" data-toc-modified-id=\"02-Data-wrangling-1.2\">02 Data wrangling</a></span></li><li><span><a href=\"#03-Data-consistency-checks\" data-toc-modified-id=\"03-Data-consistency-checks-1.3\">03 Data consistency checks</a></span><ul class=\"toc-item\"><li><span><a href=\"#Missing-values\" data-toc-modified-id=\"Missing-values-1.3.1\">Missing values</a></span></li><li><span><a href=\"#Check-for-duplicates\" data-toc-modified-id=\"Check-for-duplicates-1.3.2\">Check for duplicates</a></span></li><li><span><a href=\"#Check-for-extreme-values\" data-toc-modified-id=\"Check-for-extreme-values-1.3.3\">Check for extreme values</a></span></li></ul></li><li><span><a href=\"#04-Data-prep-for-regression-analysis\" data-toc-modified-id=\"04-Data-prep-for-regression-analysis-1.4\">04 Data prep for regression analysis</a></span></li><li><span><a href=\"#05-Regression-analysis\" data-toc-modified-id=\"05-Regression-analysis-1.5\">05 Regression analysis</a></span><ul class=\"toc-item\"><li><span><a href=\"#Compare-how-the-regression-fits-the-training-set\" data-toc-modified-id=\"Compare-how-the-regression-fits-the-training-set-1.5.1\">Compare how the regression fits the training set</a></span></li></ul></li><li><span><a href=\"#06-Regression-Analysis:-Without-Outliers\" data-toc-modified-id=\"06-Regression-Analysis:-Without-Outliers-1.6\">06 Regression Analysis: Without Outliers</a></span><ul class=\"toc-item\"><li><span><a href=\"#find-and-remove-outliers-for-'life_expectancy'-and-'gdp_per_capita-variables\" data-toc-modified-id=\"find-and-remove-outliers-for-'life_expectancy'-and-'gdp_per_capita-variables-1.6.1\">find and remove outliers for 'life_expectancy' and 'gdp_per_capita variables</a></span></li><li><span><a href=\"#regression-analysis-without-outliers\" data-toc-modified-id=\"regression-analysis-without-outliers-1.6.2\">regression analysis without outliers</a></span><ul class=\"toc-item\"><li><span><a href=\"#Compare-how-the-regression-fits-the-training-set\" data-toc-modified-id=\"Compare-how-the-regression-fits-the-training-set-1.6.2.1\">Compare how the regression fits the training set</a></span></li></ul></li></ul></li></ul></li></ul></div>"
   ]
  },
  {
   "cell_type": "markdown",
   "id": "9e901f5d",
   "metadata": {},
   "source": [
    "# co2 emmisions and life expectancy supervised machine learning regression anlaysis"
   ]
  },
  {
   "cell_type": "markdown",
   "id": "fd9938d3",
   "metadata": {},
   "source": [
    "## 01 Import libraries and data"
   ]
  },
  {
   "cell_type": "code",
   "execution_count": 1,
   "id": "73cce6d7",
   "metadata": {},
   "outputs": [],
   "source": [
    "# import libraries\n",
    "\n",
    "import pandas as pd\n",
    "import numpy as np\n",
    "import seaborn as sns\n",
    "import matplotlib\n",
    "import matplotlib.pyplot as plt\n",
    "import os\n",
    "import sklearn\n",
    "from sklearn.model_selection import train_test_split \n",
    "from sklearn.linear_model import LinearRegression\n",
    "from sklearn.metrics import mean_squared_error, r2_score"
   ]
  },
  {
   "cell_type": "code",
   "execution_count": 2,
   "id": "4078fc96",
   "metadata": {},
   "outputs": [],
   "source": [
    "# command matplotlib visuals to appear in the notebook \n",
    "\n",
    "%matplotlib inline"
   ]
  },
  {
   "cell_type": "code",
   "execution_count": 3,
   "id": "1eba1b93",
   "metadata": {},
   "outputs": [],
   "source": [
    "# Create path\n",
    "\n",
    "path = r'C:\\Users\\rober_fjs0dbr\\OneDrive\\Documents\\CF Coursework\\Advanced Analytics & Dashboard Design\\rc_final_project'"
   ]
  },
  {
   "cell_type": "code",
   "execution_count": 4,
   "id": "de1a0d14",
   "metadata": {},
   "outputs": [],
   "source": [
    "# import carbon data\n",
    "\n",
    "df = pd.read_csv(os.path.join(path, '02 Data', 'Prepared Data', 'carbon_life_full_v03.csv'))"
   ]
  },
  {
   "cell_type": "code",
   "execution_count": 5,
   "id": "1f37f9da",
   "metadata": {},
   "outputs": [
    {
     "data": {
      "text/html": [
       "<div>\n",
       "<style scoped>\n",
       "    .dataframe tbody tr th:only-of-type {\n",
       "        vertical-align: middle;\n",
       "    }\n",
       "\n",
       "    .dataframe tbody tr th {\n",
       "        vertical-align: top;\n",
       "    }\n",
       "\n",
       "    .dataframe thead th {\n",
       "        text-align: right;\n",
       "    }\n",
       "</style>\n",
       "<table border=\"1\" class=\"dataframe\">\n",
       "  <thead>\n",
       "    <tr style=\"text-align: right;\">\n",
       "      <th></th>\n",
       "      <th>Unnamed: 0</th>\n",
       "      <th>country</th>\n",
       "      <th>year</th>\n",
       "      <th>life_expectancy</th>\n",
       "      <th>pct_change_life</th>\n",
       "      <th>population</th>\n",
       "      <th>pct_change_pop</th>\n",
       "      <th>gdp</th>\n",
       "      <th>pct_change_gdp</th>\n",
       "      <th>gdp_per_capita</th>\n",
       "      <th>...</th>\n",
       "      <th>co2</th>\n",
       "      <th>pct_change_co2</th>\n",
       "      <th>co2_per_capita</th>\n",
       "      <th>pct_change_co2_capita</th>\n",
       "      <th>life_expectancy_flag</th>\n",
       "      <th>population_flag</th>\n",
       "      <th>gdp_flag</th>\n",
       "      <th>gdp_capita_flag</th>\n",
       "      <th>co2_production_flag</th>\n",
       "      <th>co2_per_capita_flag</th>\n",
       "    </tr>\n",
       "  </thead>\n",
       "  <tbody>\n",
       "    <tr>\n",
       "      <th>0</th>\n",
       "      <td>0</td>\n",
       "      <td>Afghanistan</td>\n",
       "      <td>1990</td>\n",
       "      <td>50.331001</td>\n",
       "      <td>NaN</td>\n",
       "      <td>10694804</td>\n",
       "      <td>NaN</td>\n",
       "      <td>1.306598e+10</td>\n",
       "      <td>NaN</td>\n",
       "      <td>1221.713273</td>\n",
       "      <td>...</td>\n",
       "      <td>2024000.0</td>\n",
       "      <td>NaN</td>\n",
       "      <td>0.189251</td>\n",
       "      <td>NaN</td>\n",
       "      <td>Short Life</td>\n",
       "      <td>Medium Population</td>\n",
       "      <td>Low GDP</td>\n",
       "      <td>Lower Income</td>\n",
       "      <td>Low co2 Producer</td>\n",
       "      <td>Low co2 per Capita</td>\n",
       "    </tr>\n",
       "    <tr>\n",
       "      <th>1</th>\n",
       "      <td>1</td>\n",
       "      <td>Afghanistan</td>\n",
       "      <td>1991</td>\n",
       "      <td>50.999001</td>\n",
       "      <td>1.327212</td>\n",
       "      <td>10745168</td>\n",
       "      <td>0.470920</td>\n",
       "      <td>1.204736e+10</td>\n",
       "      <td>-7.795983</td>\n",
       "      <td>1121.188803</td>\n",
       "      <td>...</td>\n",
       "      <td>1914000.0</td>\n",
       "      <td>-5.434783</td>\n",
       "      <td>0.178127</td>\n",
       "      <td>-5.878022</td>\n",
       "      <td>Short Life</td>\n",
       "      <td>Medium Population</td>\n",
       "      <td>Low GDP</td>\n",
       "      <td>Lower Income</td>\n",
       "      <td>Low co2 Producer</td>\n",
       "      <td>Low co2 per Capita</td>\n",
       "    </tr>\n",
       "    <tr>\n",
       "      <th>2</th>\n",
       "      <td>2</td>\n",
       "      <td>Afghanistan</td>\n",
       "      <td>1992</td>\n",
       "      <td>51.640999</td>\n",
       "      <td>1.258845</td>\n",
       "      <td>12057436</td>\n",
       "      <td>12.212634</td>\n",
       "      <td>1.267754e+10</td>\n",
       "      <td>5.230828</td>\n",
       "      <td>1051.429078</td>\n",
       "      <td>...</td>\n",
       "      <td>1482000.0</td>\n",
       "      <td>-22.570533</td>\n",
       "      <td>0.122912</td>\n",
       "      <td>-30.997549</td>\n",
       "      <td>Short Life</td>\n",
       "      <td>Medium Population</td>\n",
       "      <td>Low GDP</td>\n",
       "      <td>Lower Income</td>\n",
       "      <td>Low co2 Producer</td>\n",
       "      <td>Low co2 per Capita</td>\n",
       "    </tr>\n",
       "    <tr>\n",
       "      <th>3</th>\n",
       "      <td>3</td>\n",
       "      <td>Afghanistan</td>\n",
       "      <td>1993</td>\n",
       "      <td>52.256001</td>\n",
       "      <td>1.190917</td>\n",
       "      <td>14003764</td>\n",
       "      <td>16.142138</td>\n",
       "      <td>9.834581e+09</td>\n",
       "      <td>-22.425156</td>\n",
       "      <td>702.281258</td>\n",
       "      <td>...</td>\n",
       "      <td>1487000.0</td>\n",
       "      <td>0.337382</td>\n",
       "      <td>0.106186</td>\n",
       "      <td>-13.608116</td>\n",
       "      <td>Short Life</td>\n",
       "      <td>Medium Population</td>\n",
       "      <td>Low GDP</td>\n",
       "      <td>Lower Income</td>\n",
       "      <td>Low co2 Producer</td>\n",
       "      <td>Low co2 per Capita</td>\n",
       "    </tr>\n",
       "    <tr>\n",
       "      <th>4</th>\n",
       "      <td>4</td>\n",
       "      <td>Afghanistan</td>\n",
       "      <td>1994</td>\n",
       "      <td>52.841999</td>\n",
       "      <td>1.121400</td>\n",
       "      <td>15455560</td>\n",
       "      <td>10.367184</td>\n",
       "      <td>7.919857e+09</td>\n",
       "      <td>-19.469298</td>\n",
       "      <td>512.427706</td>\n",
       "      <td>...</td>\n",
       "      <td>1454000.0</td>\n",
       "      <td>-2.219233</td>\n",
       "      <td>0.094076</td>\n",
       "      <td>-11.404130</td>\n",
       "      <td>Short Life</td>\n",
       "      <td>Medium Population</td>\n",
       "      <td>Low GDP</td>\n",
       "      <td>Lower Income</td>\n",
       "      <td>Low co2 Producer</td>\n",
       "      <td>Low co2 per Capita</td>\n",
       "    </tr>\n",
       "  </tbody>\n",
       "</table>\n",
       "<p>5 rows × 21 columns</p>\n",
       "</div>"
      ],
      "text/plain": [
       "   Unnamed: 0      country  year  life_expectancy  pct_change_life  \\\n",
       "0           0  Afghanistan  1990        50.331001              NaN   \n",
       "1           1  Afghanistan  1991        50.999001         1.327212   \n",
       "2           2  Afghanistan  1992        51.640999         1.258845   \n",
       "3           3  Afghanistan  1993        52.256001         1.190917   \n",
       "4           4  Afghanistan  1994        52.841999         1.121400   \n",
       "\n",
       "   population  pct_change_pop           gdp  pct_change_gdp  gdp_per_capita  \\\n",
       "0    10694804             NaN  1.306598e+10             NaN     1221.713273   \n",
       "1    10745168        0.470920  1.204736e+10       -7.795983     1121.188803   \n",
       "2    12057436       12.212634  1.267754e+10        5.230828     1051.429078   \n",
       "3    14003764       16.142138  9.834581e+09      -22.425156      702.281258   \n",
       "4    15455560       10.367184  7.919857e+09      -19.469298      512.427706   \n",
       "\n",
       "   ...        co2  pct_change_co2  co2_per_capita  pct_change_co2_capita  \\\n",
       "0  ...  2024000.0             NaN        0.189251                    NaN   \n",
       "1  ...  1914000.0       -5.434783        0.178127              -5.878022   \n",
       "2  ...  1482000.0      -22.570533        0.122912             -30.997549   \n",
       "3  ...  1487000.0        0.337382        0.106186             -13.608116   \n",
       "4  ...  1454000.0       -2.219233        0.094076             -11.404130   \n",
       "\n",
       "   life_expectancy_flag    population_flag gdp_flag gdp_capita_flag  \\\n",
       "0            Short Life  Medium Population  Low GDP    Lower Income   \n",
       "1            Short Life  Medium Population  Low GDP    Lower Income   \n",
       "2            Short Life  Medium Population  Low GDP    Lower Income   \n",
       "3            Short Life  Medium Population  Low GDP    Lower Income   \n",
       "4            Short Life  Medium Population  Low GDP    Lower Income   \n",
       "\n",
       "  co2_production_flag co2_per_capita_flag  \n",
       "0    Low co2 Producer  Low co2 per Capita  \n",
       "1    Low co2 Producer  Low co2 per Capita  \n",
       "2    Low co2 Producer  Low co2 per Capita  \n",
       "3    Low co2 Producer  Low co2 per Capita  \n",
       "4    Low co2 Producer  Low co2 per Capita  \n",
       "\n",
       "[5 rows x 21 columns]"
      ]
     },
     "execution_count": 5,
     "metadata": {},
     "output_type": "execute_result"
    }
   ],
   "source": [
    "df.head()"
   ]
  },
  {
   "cell_type": "markdown",
   "id": "35410978",
   "metadata": {},
   "source": [
    "## 02 Data wrangling"
   ]
  },
  {
   "cell_type": "code",
   "execution_count": 6,
   "id": "edcf8480",
   "metadata": {},
   "outputs": [],
   "source": [
    "# Drop 'Unnamed: 0' column from df\n",
    "\n",
    "df = df.drop(['Unnamed: 0'], axis=1)"
   ]
  },
  {
   "cell_type": "code",
   "execution_count": 7,
   "id": "11433678",
   "metadata": {},
   "outputs": [
    {
     "data": {
      "text/html": [
       "<div>\n",
       "<style scoped>\n",
       "    .dataframe tbody tr th:only-of-type {\n",
       "        vertical-align: middle;\n",
       "    }\n",
       "\n",
       "    .dataframe tbody tr th {\n",
       "        vertical-align: top;\n",
       "    }\n",
       "\n",
       "    .dataframe thead th {\n",
       "        text-align: right;\n",
       "    }\n",
       "</style>\n",
       "<table border=\"1\" class=\"dataframe\">\n",
       "  <thead>\n",
       "    <tr style=\"text-align: right;\">\n",
       "      <th></th>\n",
       "      <th>country</th>\n",
       "      <th>year</th>\n",
       "      <th>life_expectancy</th>\n",
       "      <th>pct_change_life</th>\n",
       "      <th>population</th>\n",
       "      <th>pct_change_pop</th>\n",
       "      <th>gdp</th>\n",
       "      <th>pct_change_gdp</th>\n",
       "      <th>gdp_per_capita</th>\n",
       "      <th>pct_change_gdp_capita</th>\n",
       "      <th>co2</th>\n",
       "      <th>pct_change_co2</th>\n",
       "      <th>co2_per_capita</th>\n",
       "      <th>pct_change_co2_capita</th>\n",
       "      <th>life_expectancy_flag</th>\n",
       "      <th>population_flag</th>\n",
       "      <th>gdp_flag</th>\n",
       "      <th>gdp_capita_flag</th>\n",
       "      <th>co2_production_flag</th>\n",
       "      <th>co2_per_capita_flag</th>\n",
       "    </tr>\n",
       "  </thead>\n",
       "  <tbody>\n",
       "    <tr>\n",
       "      <th>0</th>\n",
       "      <td>Afghanistan</td>\n",
       "      <td>1990</td>\n",
       "      <td>50.331001</td>\n",
       "      <td>NaN</td>\n",
       "      <td>10694804</td>\n",
       "      <td>NaN</td>\n",
       "      <td>1.306598e+10</td>\n",
       "      <td>NaN</td>\n",
       "      <td>1221.713273</td>\n",
       "      <td>NaN</td>\n",
       "      <td>2024000.0</td>\n",
       "      <td>NaN</td>\n",
       "      <td>0.189251</td>\n",
       "      <td>NaN</td>\n",
       "      <td>Short Life</td>\n",
       "      <td>Medium Population</td>\n",
       "      <td>Low GDP</td>\n",
       "      <td>Lower Income</td>\n",
       "      <td>Low co2 Producer</td>\n",
       "      <td>Low co2 per Capita</td>\n",
       "    </tr>\n",
       "    <tr>\n",
       "      <th>1</th>\n",
       "      <td>Afghanistan</td>\n",
       "      <td>1991</td>\n",
       "      <td>50.999001</td>\n",
       "      <td>1.327212</td>\n",
       "      <td>10745168</td>\n",
       "      <td>0.470920</td>\n",
       "      <td>1.204736e+10</td>\n",
       "      <td>-7.795983</td>\n",
       "      <td>1121.188803</td>\n",
       "      <td>-8.228156</td>\n",
       "      <td>1914000.0</td>\n",
       "      <td>-5.434783</td>\n",
       "      <td>0.178127</td>\n",
       "      <td>-5.878022</td>\n",
       "      <td>Short Life</td>\n",
       "      <td>Medium Population</td>\n",
       "      <td>Low GDP</td>\n",
       "      <td>Lower Income</td>\n",
       "      <td>Low co2 Producer</td>\n",
       "      <td>Low co2 per Capita</td>\n",
       "    </tr>\n",
       "    <tr>\n",
       "      <th>2</th>\n",
       "      <td>Afghanistan</td>\n",
       "      <td>1992</td>\n",
       "      <td>51.640999</td>\n",
       "      <td>1.258845</td>\n",
       "      <td>12057436</td>\n",
       "      <td>12.212634</td>\n",
       "      <td>1.267754e+10</td>\n",
       "      <td>5.230828</td>\n",
       "      <td>1051.429078</td>\n",
       "      <td>-6.221943</td>\n",
       "      <td>1482000.0</td>\n",
       "      <td>-22.570533</td>\n",
       "      <td>0.122912</td>\n",
       "      <td>-30.997549</td>\n",
       "      <td>Short Life</td>\n",
       "      <td>Medium Population</td>\n",
       "      <td>Low GDP</td>\n",
       "      <td>Lower Income</td>\n",
       "      <td>Low co2 Producer</td>\n",
       "      <td>Low co2 per Capita</td>\n",
       "    </tr>\n",
       "    <tr>\n",
       "      <th>3</th>\n",
       "      <td>Afghanistan</td>\n",
       "      <td>1993</td>\n",
       "      <td>52.256001</td>\n",
       "      <td>1.190917</td>\n",
       "      <td>14003764</td>\n",
       "      <td>16.142138</td>\n",
       "      <td>9.834581e+09</td>\n",
       "      <td>-22.425156</td>\n",
       "      <td>702.281258</td>\n",
       "      <td>-33.206978</td>\n",
       "      <td>1487000.0</td>\n",
       "      <td>0.337382</td>\n",
       "      <td>0.106186</td>\n",
       "      <td>-13.608116</td>\n",
       "      <td>Short Life</td>\n",
       "      <td>Medium Population</td>\n",
       "      <td>Low GDP</td>\n",
       "      <td>Lower Income</td>\n",
       "      <td>Low co2 Producer</td>\n",
       "      <td>Low co2 per Capita</td>\n",
       "    </tr>\n",
       "    <tr>\n",
       "      <th>4</th>\n",
       "      <td>Afghanistan</td>\n",
       "      <td>1994</td>\n",
       "      <td>52.841999</td>\n",
       "      <td>1.121400</td>\n",
       "      <td>15455560</td>\n",
       "      <td>10.367184</td>\n",
       "      <td>7.919857e+09</td>\n",
       "      <td>-19.469298</td>\n",
       "      <td>512.427706</td>\n",
       "      <td>-27.033834</td>\n",
       "      <td>1454000.0</td>\n",
       "      <td>-2.219233</td>\n",
       "      <td>0.094076</td>\n",
       "      <td>-11.404130</td>\n",
       "      <td>Short Life</td>\n",
       "      <td>Medium Population</td>\n",
       "      <td>Low GDP</td>\n",
       "      <td>Lower Income</td>\n",
       "      <td>Low co2 Producer</td>\n",
       "      <td>Low co2 per Capita</td>\n",
       "    </tr>\n",
       "  </tbody>\n",
       "</table>\n",
       "</div>"
      ],
      "text/plain": [
       "       country  year  life_expectancy  pct_change_life  population  \\\n",
       "0  Afghanistan  1990        50.331001              NaN    10694804   \n",
       "1  Afghanistan  1991        50.999001         1.327212    10745168   \n",
       "2  Afghanistan  1992        51.640999         1.258845    12057436   \n",
       "3  Afghanistan  1993        52.256001         1.190917    14003764   \n",
       "4  Afghanistan  1994        52.841999         1.121400    15455560   \n",
       "\n",
       "   pct_change_pop           gdp  pct_change_gdp  gdp_per_capita  \\\n",
       "0             NaN  1.306598e+10             NaN     1221.713273   \n",
       "1        0.470920  1.204736e+10       -7.795983     1121.188803   \n",
       "2       12.212634  1.267754e+10        5.230828     1051.429078   \n",
       "3       16.142138  9.834581e+09      -22.425156      702.281258   \n",
       "4       10.367184  7.919857e+09      -19.469298      512.427706   \n",
       "\n",
       "   pct_change_gdp_capita        co2  pct_change_co2  co2_per_capita  \\\n",
       "0                    NaN  2024000.0             NaN        0.189251   \n",
       "1              -8.228156  1914000.0       -5.434783        0.178127   \n",
       "2              -6.221943  1482000.0      -22.570533        0.122912   \n",
       "3             -33.206978  1487000.0        0.337382        0.106186   \n",
       "4             -27.033834  1454000.0       -2.219233        0.094076   \n",
       "\n",
       "   pct_change_co2_capita life_expectancy_flag    population_flag gdp_flag  \\\n",
       "0                    NaN           Short Life  Medium Population  Low GDP   \n",
       "1              -5.878022           Short Life  Medium Population  Low GDP   \n",
       "2             -30.997549           Short Life  Medium Population  Low GDP   \n",
       "3             -13.608116           Short Life  Medium Population  Low GDP   \n",
       "4             -11.404130           Short Life  Medium Population  Low GDP   \n",
       "\n",
       "  gdp_capita_flag co2_production_flag co2_per_capita_flag  \n",
       "0    Lower Income    Low co2 Producer  Low co2 per Capita  \n",
       "1    Lower Income    Low co2 Producer  Low co2 per Capita  \n",
       "2    Lower Income    Low co2 Producer  Low co2 per Capita  \n",
       "3    Lower Income    Low co2 Producer  Low co2 per Capita  \n",
       "4    Lower Income    Low co2 Producer  Low co2 per Capita  "
      ]
     },
     "execution_count": 7,
     "metadata": {},
     "output_type": "execute_result"
    }
   ],
   "source": [
    "df.head()"
   ]
  },
  {
   "cell_type": "markdown",
   "id": "233ff335",
   "metadata": {},
   "source": [
    "## 03 Data consistency checks"
   ]
  },
  {
   "cell_type": "markdown",
   "id": "0b5b8989",
   "metadata": {},
   "source": [
    "### Missing values"
   ]
  },
  {
   "cell_type": "code",
   "execution_count": 8,
   "id": "065c92f8",
   "metadata": {},
   "outputs": [
    {
     "data": {
      "text/plain": [
       "country                  0\n",
       "year                     0\n",
       "life_expectancy          0\n",
       "pct_change_life          1\n",
       "population               0\n",
       "pct_change_pop           1\n",
       "gdp                      0\n",
       "pct_change_gdp           1\n",
       "gdp_per_capita           0\n",
       "pct_change_gdp_capita    1\n",
       "co2                      0\n",
       "pct_change_co2           1\n",
       "co2_per_capita           0\n",
       "pct_change_co2_capita    1\n",
       "life_expectancy_flag     0\n",
       "population_flag          0\n",
       "gdp_flag                 0\n",
       "gdp_capita_flag          0\n",
       "co2_production_flag      0\n",
       "co2_per_capita_flag      0\n",
       "dtype: int64"
      ]
     },
     "execution_count": 8,
     "metadata": {},
     "output_type": "execute_result"
    }
   ],
   "source": [
    "### Check for missing values\n",
    "\n",
    "df.isnull().sum()"
   ]
  },
  {
   "cell_type": "markdown",
   "id": "278e39f4",
   "metadata": {},
   "source": [
    "Missing values represent first year of data for % change columns. They will be left as is"
   ]
  },
  {
   "cell_type": "markdown",
   "id": "2a238a52",
   "metadata": {},
   "source": [
    "### Check for duplicates"
   ]
  },
  {
   "cell_type": "code",
   "execution_count": 9,
   "id": "25738774",
   "metadata": {},
   "outputs": [],
   "source": [
    "dups = df.duplicated()"
   ]
  },
  {
   "cell_type": "code",
   "execution_count": 10,
   "id": "85d7c792",
   "metadata": {},
   "outputs": [
    {
     "data": {
      "text/plain": [
       "(4691,)"
      ]
     },
     "execution_count": 10,
     "metadata": {},
     "output_type": "execute_result"
    }
   ],
   "source": [
    "dups.shape"
   ]
  },
  {
   "cell_type": "markdown",
   "id": "18964415",
   "metadata": {},
   "source": [
    "No duplicates present"
   ]
  },
  {
   "cell_type": "markdown",
   "id": "fb860c25",
   "metadata": {},
   "source": [
    "### Check for extreme values"
   ]
  },
  {
   "cell_type": "code",
   "execution_count": 15,
   "id": "f4c2367d",
   "metadata": {},
   "outputs": [
    {
     "name": "stderr",
     "output_type": "stream",
     "text": [
      "C:\\Users\\rober_fjs0dbr\\anaconda3\\lib\\site-packages\\seaborn\\distributions.py:2619: FutureWarning: `distplot` is a deprecated function and will be removed in a future version. Please adapt your code to use either `displot` (a figure-level function with similar flexibility) or `histplot` (an axes-level function for histograms).\n",
      "  warnings.warn(msg, FutureWarning)\n"
     ]
    },
    {
     "data": {
      "text/plain": [
       "<AxesSubplot:xlabel='life_expectancy', ylabel='Density'>"
      ]
     },
     "execution_count": 15,
     "metadata": {},
     "output_type": "execute_result"
    },
    {
     "data": {
      "image/png": "[encoded data removed]",
      "text/plain": [
       "<Figure size 640x480 with 1 Axes>"
      ]
     },
     "metadata": {},
     "output_type": "display_data"
    }
   ],
   "source": [
    "sns.distplot(df['life_expectancy'], bins=25) # Shows extreme values"
   ]
  },
  {
   "cell_type": "markdown",
   "id": "53d65828",
   "metadata": {},
   "source": [
    "There does appear to be some extreme values on the low end in terms of life expectancy, for now we will leave the data set as is"
   ]
  },
  {
   "cell_type": "code",
   "execution_count": 16,
   "id": "5c0e2492",
   "metadata": {},
   "outputs": [
    {
     "data": {
      "text/plain": [
       "68.20484099009602"
      ]
     },
     "execution_count": 16,
     "metadata": {},
     "output_type": "execute_result"
    }
   ],
   "source": [
    "df['life_expectancy'].mean() # Check the mean"
   ]
  },
  {
   "cell_type": "code",
   "execution_count": 17,
   "id": "27fbfab4",
   "metadata": {},
   "outputs": [
    {
     "data": {
      "text/plain": [
       "70.94599915"
      ]
     },
     "execution_count": 17,
     "metadata": {},
     "output_type": "execute_result"
    }
   ],
   "source": [
    "df['life_expectancy'].median() # Check the median"
   ]
  },
  {
   "cell_type": "code",
   "execution_count": 18,
   "id": "fcbd1668",
   "metadata": {},
   "outputs": [
    {
     "data": {
      "text/plain": [
       "84.93414307"
      ]
     },
     "execution_count": 18,
     "metadata": {},
     "output_type": "execute_result"
    }
   ],
   "source": [
    "df['life_expectancy'].max() # Check the max"
   ]
  },
  {
   "cell_type": "code",
   "execution_count": 19,
   "id": "1baf5f4f",
   "metadata": {},
   "outputs": [
    {
     "data": {
      "text/plain": [
       "26.17200089"
      ]
     },
     "execution_count": 19,
     "metadata": {},
     "output_type": "execute_result"
    }
   ],
   "source": [
    "df['life_expectancy'].min() # Check the min"
   ]
  },
  {
   "cell_type": "markdown",
   "id": "f65414c6",
   "metadata": {},
   "source": [
    "## 04 Data prep for regression analysis"
   ]
  },
  {
   "cell_type": "code",
   "execution_count": 20,
   "id": "b29bd754",
   "metadata": {},
   "outputs": [
    {
     "data": {
      "image/png": "[encoded data removed]",
      "text/plain": [
       "<Figure size 640x480 with 1 Axes>"
      ]
     },
     "metadata": {},
     "output_type": "display_data"
    }
   ],
   "source": [
    "# Create a scatterplot using matplotlib for another look at how the chosen variables plot against each other.\n",
    "\n",
    "df.plot(x = 'gdp_per_capita', y='life_expectancy',style='o') # The style option creates a scatterplot; without it, we only have lines.\n",
    "plt.title('GDP per Capita vs Life Expectancy')  \n",
    "plt.xlabel('GDP per Capita')  \n",
    "plt.ylabel('Life Expectancy')  \n",
    "plt.show()"
   ]
  },
  {
   "cell_type": "code",
   "execution_count": 21,
   "id": "73eed121",
   "metadata": {},
   "outputs": [],
   "source": [
    "# Reshape the variables into NumPy arrays and put them into separate objects.\n",
    "\n",
    "X = df['gdp_per_capita'].values.reshape(-1,1)\n",
    "y = df['life_expectancy'].values.reshape(-1,1)"
   ]
  },
  {
   "cell_type": "code",
   "execution_count": 22,
   "id": "f50012ea",
   "metadata": {},
   "outputs": [
    {
     "data": {
      "text/plain": [
       "array([[1221.7132731 ],\n",
       "       [1121.188803  ],\n",
       "       [1051.42907796],\n",
       "       ...,\n",
       "       [1450.37168115],\n",
       "       [1487.8778483 ],\n",
       "       [1509.10608881]])"
      ]
     },
     "execution_count": 22,
     "metadata": {},
     "output_type": "execute_result"
    }
   ],
   "source": [
    "X"
   ]
  },
  {
   "cell_type": "code",
   "execution_count": 23,
   "id": "2624c275",
   "metadata": {},
   "outputs": [
    {
     "data": {
      "text/plain": [
       "array([[50.33100128],\n",
       "       [50.99900055],\n",
       "       [51.64099884],\n",
       "       ...,\n",
       "       [60.29399872],\n",
       "       [60.81200027],\n",
       "       [61.19499969]])"
      ]
     },
     "execution_count": 23,
     "metadata": {},
     "output_type": "execute_result"
    }
   ],
   "source": [
    "y"
   ]
  },
  {
   "cell_type": "code",
   "execution_count": 24,
   "id": "daeafeb6",
   "metadata": {},
   "outputs": [],
   "source": [
    "# Split data into a training set and a test set.\n",
    "\n",
    "X_train, X_test, y_train, y_test = train_test_split(X, y, test_size=0.3, random_state=0)"
   ]
  },
  {
   "cell_type": "markdown",
   "id": "0f95cf1e",
   "metadata": {},
   "source": [
    "## 05 Regression analysis"
   ]
  },
  {
   "cell_type": "code",
   "execution_count": 25,
   "id": "d9662249",
   "metadata": {},
   "outputs": [],
   "source": [
    "# Create a regression object.\n",
    "\n",
    "regression = LinearRegression()  "
   ]
  },
  {
   "cell_type": "code",
   "execution_count": 26,
   "id": "8b4c45c2",
   "metadata": {},
   "outputs": [
    {
     "data": {
      "text/plain": [
       "LinearRegression()"
      ]
     },
     "execution_count": 26,
     "metadata": {},
     "output_type": "execute_result"
    }
   ],
   "source": [
    "# Fit the regression object onto the training set.\n",
    "\n",
    "regression.fit(X_train, y_train)"
   ]
  },
  {
   "cell_type": "code",
   "execution_count": 27,
   "id": "4347860b",
   "metadata": {},
   "outputs": [],
   "source": [
    "# Predict the values of y using X.\n",
    "\n",
    "y_predicted = regression.predict(X_test)"
   ]
  },
  {
   "cell_type": "code",
   "execution_count": 28,
   "id": "0841df89",
   "metadata": {},
   "outputs": [
    {
     "data": {
      "image/png": "[encoded data removed]",
      "text/plain": [
       "<Figure size 640x480 with 1 Axes>"
      ]
     },
     "metadata": {},
     "output_type": "display_data"
    }
   ],
   "source": [
    "# Create a plot that shows the regression line from the model on the test set.\n",
    "\n",
    "plot_test = plt\n",
    "plot_test.scatter(X_test, y_test, color='gray', s = 15)\n",
    "plot_test.plot(X_test, y_predicted, color='red', linewidth =3)\n",
    "plot_test.title('GDP per Capita vs Life Expectancy (Test set)')\n",
    "plot_test.xlabel('GDP per Capita')\n",
    "plot_test.ylabel('Life Expectancy')\n",
    "plot_test.show()"
   ]
  },
  {
   "cell_type": "markdown",
   "id": "58496a54",
   "metadata": {},
   "source": [
    "This line does not appear to be a good fit. I believe this is because both variables \"life_expectancy\" and \"gdp_per-capita\" contain outliers."
   ]
  },
  {
   "cell_type": "code",
   "execution_count": 29,
   "id": "99aa8663",
   "metadata": {},
   "outputs": [],
   "source": [
    "# Create objects that contain the model summary statistics.\n",
    "\n",
    "rmse = mean_squared_error(y_test, y_predicted) # This is the mean squared error\n",
    "r2 = r2_score(y_test, y_predicted) # This is the R2 score. "
   ]
  },
  {
   "cell_type": "code",
   "execution_count": 30,
   "id": "0c0ad48d",
   "metadata": {},
   "outputs": [
    {
     "name": "stdout",
     "output_type": "stream",
     "text": [
      "Slope: [[0.00041315]]\n",
      "Mean squared error:  63.81956040448324\n",
      "R2 score:  0.35144021440420536\n"
     ]
    }
   ],
   "source": [
    "# Print the model summary statistics. \n",
    "\n",
    "print('Slope:' ,regression.coef_)\n",
    "print('Mean squared error: ', rmse)\n",
    "print('R2 score: ', r2)"
   ]
  },
  {
   "cell_type": "markdown",
   "id": "1a0ad7e0",
   "metadata": {},
   "source": [
    "An R2 score of .35 represents a  weak to moderate relationship. I would like to see what this would look like after removing outliers."
   ]
  },
  {
   "cell_type": "code",
   "execution_count": 31,
   "id": "bdc34b1a",
   "metadata": {},
   "outputs": [
    {
     "data": {
      "text/plain": [
       "array([[68.97458416],\n",
       "       [66.39563379],\n",
       "       [64.96434452],\n",
       "       ...,\n",
       "       [80.83712867],\n",
       "       [64.12696248],\n",
       "       [63.04574998]])"
      ]
     },
     "execution_count": 31,
     "metadata": {},
     "output_type": "execute_result"
    }
   ],
   "source": [
    "y_predicted"
   ]
  },
  {
   "cell_type": "code",
   "execution_count": 32,
   "id": "8d303a66",
   "metadata": {},
   "outputs": [
    {
     "data": {
      "text/html": [
       "<div>\n",
       "<style scoped>\n",
       "    .dataframe tbody tr th:only-of-type {\n",
       "        vertical-align: middle;\n",
       "    }\n",
       "\n",
       "    .dataframe tbody tr th {\n",
       "        vertical-align: top;\n",
       "    }\n",
       "\n",
       "    .dataframe thead th {\n",
       "        text-align: right;\n",
       "    }\n",
       "</style>\n",
       "<table border=\"1\" class=\"dataframe\">\n",
       "  <thead>\n",
       "    <tr style=\"text-align: right;\">\n",
       "      <th></th>\n",
       "      <th>Actual</th>\n",
       "      <th>Predicted</th>\n",
       "    </tr>\n",
       "  </thead>\n",
       "  <tbody>\n",
       "    <tr>\n",
       "      <th>0</th>\n",
       "      <td>76.427002</td>\n",
       "      <td>68.974584</td>\n",
       "    </tr>\n",
       "    <tr>\n",
       "      <th>1</th>\n",
       "      <td>69.418999</td>\n",
       "      <td>66.395634</td>\n",
       "    </tr>\n",
       "    <tr>\n",
       "      <th>2</th>\n",
       "      <td>74.828003</td>\n",
       "      <td>64.964345</td>\n",
       "    </tr>\n",
       "    <tr>\n",
       "      <th>3</th>\n",
       "      <td>76.582924</td>\n",
       "      <td>80.942618</td>\n",
       "    </tr>\n",
       "    <tr>\n",
       "      <th>4</th>\n",
       "      <td>59.688000</td>\n",
       "      <td>63.096832</td>\n",
       "    </tr>\n",
       "    <tr>\n",
       "      <th>5</th>\n",
       "      <td>77.109001</td>\n",
       "      <td>67.963514</td>\n",
       "    </tr>\n",
       "    <tr>\n",
       "      <th>6</th>\n",
       "      <td>73.920998</td>\n",
       "      <td>68.679003</td>\n",
       "    </tr>\n",
       "    <tr>\n",
       "      <th>7</th>\n",
       "      <td>59.924999</td>\n",
       "      <td>65.024955</td>\n",
       "    </tr>\n",
       "    <tr>\n",
       "      <th>8</th>\n",
       "      <td>71.572998</td>\n",
       "      <td>66.786923</td>\n",
       "    </tr>\n",
       "    <tr>\n",
       "      <th>9</th>\n",
       "      <td>70.836586</td>\n",
       "      <td>67.132045</td>\n",
       "    </tr>\n",
       "    <tr>\n",
       "      <th>10</th>\n",
       "      <td>73.355003</td>\n",
       "      <td>83.702455</td>\n",
       "    </tr>\n",
       "    <tr>\n",
       "      <th>11</th>\n",
       "      <td>77.685364</td>\n",
       "      <td>69.639175</td>\n",
       "    </tr>\n",
       "    <tr>\n",
       "      <th>12</th>\n",
       "      <td>43.307999</td>\n",
       "      <td>65.009243</td>\n",
       "    </tr>\n",
       "    <tr>\n",
       "      <th>13</th>\n",
       "      <td>79.565002</td>\n",
       "      <td>68.062035</td>\n",
       "    </tr>\n",
       "    <tr>\n",
       "      <th>14</th>\n",
       "      <td>68.189003</td>\n",
       "      <td>67.476017</td>\n",
       "    </tr>\n",
       "    <tr>\n",
       "      <th>15</th>\n",
       "      <td>58.674999</td>\n",
       "      <td>63.361298</td>\n",
       "    </tr>\n",
       "    <tr>\n",
       "      <th>16</th>\n",
       "      <td>53.446999</td>\n",
       "      <td>66.303870</td>\n",
       "    </tr>\n",
       "    <tr>\n",
       "      <th>17</th>\n",
       "      <td>71.481003</td>\n",
       "      <td>65.235498</td>\n",
       "    </tr>\n",
       "    <tr>\n",
       "      <th>18</th>\n",
       "      <td>48.907001</td>\n",
       "      <td>62.984627</td>\n",
       "    </tr>\n",
       "    <tr>\n",
       "      <th>19</th>\n",
       "      <td>71.238998</td>\n",
       "      <td>65.192520</td>\n",
       "    </tr>\n",
       "    <tr>\n",
       "      <th>20</th>\n",
       "      <td>71.095001</td>\n",
       "      <td>65.970032</td>\n",
       "    </tr>\n",
       "    <tr>\n",
       "      <th>21</th>\n",
       "      <td>71.597565</td>\n",
       "      <td>68.067324</td>\n",
       "    </tr>\n",
       "    <tr>\n",
       "      <th>22</th>\n",
       "      <td>66.239998</td>\n",
       "      <td>63.225491</td>\n",
       "    </tr>\n",
       "    <tr>\n",
       "      <th>23</th>\n",
       "      <td>76.370735</td>\n",
       "      <td>79.519727</td>\n",
       "    </tr>\n",
       "    <tr>\n",
       "      <th>24</th>\n",
       "      <td>72.581001</td>\n",
       "      <td>65.206905</td>\n",
       "    </tr>\n",
       "    <tr>\n",
       "      <th>25</th>\n",
       "      <td>72.449997</td>\n",
       "      <td>65.434336</td>\n",
       "    </tr>\n",
       "    <tr>\n",
       "      <th>26</th>\n",
       "      <td>65.391998</td>\n",
       "      <td>64.248423</td>\n",
       "    </tr>\n",
       "    <tr>\n",
       "      <th>27</th>\n",
       "      <td>70.944000</td>\n",
       "      <td>64.411546</td>\n",
       "    </tr>\n",
       "    <tr>\n",
       "      <th>28</th>\n",
       "      <td>67.931999</td>\n",
       "      <td>66.065030</td>\n",
       "    </tr>\n",
       "    <tr>\n",
       "      <th>29</th>\n",
       "      <td>60.669998</td>\n",
       "      <td>63.249382</td>\n",
       "    </tr>\n",
       "  </tbody>\n",
       "</table>\n",
       "</div>"
      ],
      "text/plain": [
       "       Actual  Predicted\n",
       "0   76.427002  68.974584\n",
       "1   69.418999  66.395634\n",
       "2   74.828003  64.964345\n",
       "3   76.582924  80.942618\n",
       "4   59.688000  63.096832\n",
       "5   77.109001  67.963514\n",
       "6   73.920998  68.679003\n",
       "7   59.924999  65.024955\n",
       "8   71.572998  66.786923\n",
       "9   70.836586  67.132045\n",
       "10  73.355003  83.702455\n",
       "11  77.685364  69.639175\n",
       "12  43.307999  65.009243\n",
       "13  79.565002  68.062035\n",
       "14  68.189003  67.476017\n",
       "15  58.674999  63.361298\n",
       "16  53.446999  66.303870\n",
       "17  71.481003  65.235498\n",
       "18  48.907001  62.984627\n",
       "19  71.238998  65.192520\n",
       "20  71.095001  65.970032\n",
       "21  71.597565  68.067324\n",
       "22  66.239998  63.225491\n",
       "23  76.370735  79.519727\n",
       "24  72.581001  65.206905\n",
       "25  72.449997  65.434336\n",
       "26  65.391998  64.248423\n",
       "27  70.944000  64.411546\n",
       "28  67.931999  66.065030\n",
       "29  60.669998  63.249382"
      ]
     },
     "execution_count": 32,
     "metadata": {},
     "output_type": "execute_result"
    }
   ],
   "source": [
    "# Create a dataframe comparing the actual and predicted values of y.\n",
    "\n",
    "data = pd.DataFrame({'Actual': y_test.flatten(), 'Predicted': y_predicted.flatten()})\n",
    "data.head(30)"
   ]
  },
  {
   "cell_type": "markdown",
   "id": "a0071a37",
   "metadata": {},
   "source": [
    "### Compare how the regression fits the training set"
   ]
  },
  {
   "cell_type": "code",
   "execution_count": 33,
   "id": "212d1db4",
   "metadata": {},
   "outputs": [],
   "source": [
    "# Predict.\n",
    "\n",
    "y_predicted_train = regression.predict(X_train) "
   ]
  },
  {
   "cell_type": "code",
   "execution_count": 34,
   "id": "426a6a51",
   "metadata": {},
   "outputs": [],
   "source": [
    "rmse = mean_squared_error(y_train, y_predicted_train)\n",
    "r2 = r2_score(y_train, y_predicted_train)"
   ]
  },
  {
   "cell_type": "code",
   "execution_count": 35,
   "id": "612353fd",
   "metadata": {},
   "outputs": [
    {
     "name": "stdout",
     "output_type": "stream",
     "text": [
      "Slope: [[0.00041315]]\n",
      "Mean squared error:  60.64604880865154\n",
      "R2 score:  0.4038508105971059\n"
     ]
    }
   ],
   "source": [
    "print('Slope:' ,regression.coef_)\n",
    "print('Mean squared error: ', rmse)\n",
    "print('R2 score: ', r2)"
   ]
  },
  {
   "cell_type": "code",
   "execution_count": 36,
   "id": "ed02fe20",
   "metadata": {},
   "outputs": [
    {
     "data": {
      "image/png": "[encoded data removed]",
      "text/plain": [
       "<Figure size 640x480 with 1 Axes>"
      ]
     },
     "metadata": {},
     "output_type": "display_data"
    }
   ],
   "source": [
    "# Visualizing the training set results.\n",
    "\n",
    "plot_test = plt\n",
    "plot_test.scatter(X_train, y_train, color='green', s = 15)\n",
    "plot_test.plot(X_train, y_predicted_train, color='red', linewidth =3)\n",
    "plot_test.title('GDP per Capita vs Life Expectancy (Train set)')\n",
    "plot_test.xlabel('GDP per Capita')\n",
    "plot_test.ylabel('Life Expectancy')\n",
    "plot_test.show()"
   ]
  },
  {
   "cell_type": "markdown",
   "id": "f922a833",
   "metadata": {},
   "source": [
    "## 06 Regression Analysis: Without Outliers"
   ]
  },
  {
   "cell_type": "markdown",
   "id": "5b8afd07",
   "metadata": {},
   "source": [
    "### find and remove outliers for 'life_expectancy' and 'gdp_per_capita variables"
   ]
  },
  {
   "cell_type": "code",
   "execution_count": 38,
   "id": "4d022d17",
   "metadata": {},
   "outputs": [
    {
     "data": {
      "text/html": [
       "<div>\n",
       "<style scoped>\n",
       "    .dataframe tbody tr th:only-of-type {\n",
       "        vertical-align: middle;\n",
       "    }\n",
       "\n",
       "    .dataframe tbody tr th {\n",
       "        vertical-align: top;\n",
       "    }\n",
       "\n",
       "    .dataframe thead th {\n",
       "        text-align: right;\n",
       "    }\n",
       "</style>\n",
       "<table border=\"1\" class=\"dataframe\">\n",
       "  <thead>\n",
       "    <tr style=\"text-align: right;\">\n",
       "      <th></th>\n",
       "      <th>year</th>\n",
       "      <th>life_expectancy</th>\n",
       "      <th>pct_change_life</th>\n",
       "      <th>population</th>\n",
       "      <th>pct_change_pop</th>\n",
       "      <th>gdp</th>\n",
       "      <th>pct_change_gdp</th>\n",
       "      <th>gdp_per_capita</th>\n",
       "      <th>pct_change_gdp_capita</th>\n",
       "      <th>co2</th>\n",
       "      <th>pct_change_co2</th>\n",
       "      <th>co2_per_capita</th>\n",
       "      <th>pct_change_co2_capita</th>\n",
       "    </tr>\n",
       "  </thead>\n",
       "  <tbody>\n",
       "    <tr>\n",
       "      <th>count</th>\n",
       "      <td>4691.000000</td>\n",
       "      <td>4691.000000</td>\n",
       "      <td>4690.000000</td>\n",
       "      <td>4.691000e+03</td>\n",
       "      <td>4690.000000</td>\n",
       "      <td>4.691000e+03</td>\n",
       "      <td>4690.000000</td>\n",
       "      <td>4691.000000</td>\n",
       "      <td>4690.000000</td>\n",
       "      <td>4.691000e+03</td>\n",
       "      <td>4690.000000</td>\n",
       "      <td>4691.000000</td>\n",
       "      <td>4690.000000</td>\n",
       "    </tr>\n",
       "    <tr>\n",
       "      <th>mean</th>\n",
       "      <td>2004.016841</td>\n",
       "      <td>68.204841</td>\n",
       "      <td>0.084967</td>\n",
       "      <td>3.951227e+07</td>\n",
       "      <td>70.226759</td>\n",
       "      <td>4.510854e+11</td>\n",
       "      <td>22.422824</td>\n",
       "      <td>13646.447468</td>\n",
       "      <td>4.639735</td>\n",
       "      <td>1.720968e+08</td>\n",
       "      <td>inf</td>\n",
       "      <td>4.938853</td>\n",
       "      <td>inf</td>\n",
       "    </tr>\n",
       "    <tr>\n",
       "      <th>std</th>\n",
       "      <td>8.362467</td>\n",
       "      <td>10.040588</td>\n",
       "      <td>3.680540</td>\n",
       "      <td>1.388592e+08</td>\n",
       "      <td>3612.041067</td>\n",
       "      <td>1.507337e+12</td>\n",
       "      <td>562.771698</td>\n",
       "      <td>15841.659142</td>\n",
       "      <td>65.163476</td>\n",
       "      <td>7.127779e+08</td>\n",
       "      <td>NaN</td>\n",
       "      <td>8.506195</td>\n",
       "      <td>NaN</td>\n",
       "    </tr>\n",
       "    <tr>\n",
       "      <th>min</th>\n",
       "      <td>1990.000000</td>\n",
       "      <td>26.172001</td>\n",
       "      <td>-54.015979</td>\n",
       "      <td>6.828100e+04</td>\n",
       "      <td>-99.841847</td>\n",
       "      <td>2.571720e+08</td>\n",
       "      <td>-99.959980</td>\n",
       "      <td>365.696469</td>\n",
       "      <td>-97.855035</td>\n",
       "      <td>0.000000e+00</td>\n",
       "      <td>-100.000000</td>\n",
       "      <td>0.000000</td>\n",
       "      <td>-100.000000</td>\n",
       "    </tr>\n",
       "    <tr>\n",
       "      <th>25%</th>\n",
       "      <td>1997.000000</td>\n",
       "      <td>61.179501</td>\n",
       "      <td>0.169310</td>\n",
       "      <td>3.619266e+06</td>\n",
       "      <td>0.471030</td>\n",
       "      <td>1.778951e+10</td>\n",
       "      <td>1.754786</td>\n",
       "      <td>2635.831263</td>\n",
       "      <td>0.416151</td>\n",
       "      <td>3.105500e+06</td>\n",
       "      <td>-2.303857</td>\n",
       "      <td>0.527883</td>\n",
       "      <td>-3.432759</td>\n",
       "    </tr>\n",
       "    <tr>\n",
       "      <th>50%</th>\n",
       "      <td>2004.000000</td>\n",
       "      <td>70.945999</td>\n",
       "      <td>0.350286</td>\n",
       "      <td>9.330632e+06</td>\n",
       "      <td>1.412886</td>\n",
       "      <td>5.530370e+10</td>\n",
       "      <td>4.140315</td>\n",
       "      <td>7940.043566</td>\n",
       "      <td>2.655741</td>\n",
       "      <td>1.681800e+07</td>\n",
       "      <td>2.207314</td>\n",
       "      <td>2.531885</td>\n",
       "      <td>0.939726</td>\n",
       "    </tr>\n",
       "    <tr>\n",
       "      <th>75%</th>\n",
       "      <td>2011.000000</td>\n",
       "      <td>75.683998</td>\n",
       "      <td>0.661984</td>\n",
       "      <td>2.669122e+07</td>\n",
       "      <td>2.484223</td>\n",
       "      <td>2.707835e+11</td>\n",
       "      <td>6.736978</td>\n",
       "      <td>18914.544291</td>\n",
       "      <td>5.137165</td>\n",
       "      <td>7.511400e+07</td>\n",
       "      <td>7.424662</td>\n",
       "      <td>6.953005</td>\n",
       "      <td>5.923646</td>\n",
       "    </tr>\n",
       "    <tr>\n",
       "      <th>max</th>\n",
       "      <td>2018.000000</td>\n",
       "      <td>84.934143</td>\n",
       "      <td>38.642072</td>\n",
       "      <td>1.417069e+09</td>\n",
       "      <td>246521.247709</td>\n",
       "      <td>1.815160e+13</td>\n",
       "      <td>30088.083729</td>\n",
       "      <td>166150.487755</td>\n",
       "      <td>3027.309285</td>\n",
       "      <td>1.035388e+10</td>\n",
       "      <td>inf</td>\n",
       "      <td>367.927705</td>\n",
       "      <td>inf</td>\n",
       "    </tr>\n",
       "  </tbody>\n",
       "</table>\n",
       "</div>"
      ],
      "text/plain": [
       "              year  life_expectancy  pct_change_life    population  \\\n",
       "count  4691.000000      4691.000000      4690.000000  4.691000e+03   \n",
       "mean   2004.016841        68.204841         0.084967  3.951227e+07   \n",
       "std       8.362467        10.040588         3.680540  1.388592e+08   \n",
       "min    1990.000000        26.172001       -54.015979  6.828100e+04   \n",
       "25%    1997.000000        61.179501         0.169310  3.619266e+06   \n",
       "50%    2004.000000        70.945999         0.350286  9.330632e+06   \n",
       "75%    2011.000000        75.683998         0.661984  2.669122e+07   \n",
       "max    2018.000000        84.934143        38.642072  1.417069e+09   \n",
       "\n",
       "       pct_change_pop           gdp  pct_change_gdp  gdp_per_capita  \\\n",
       "count     4690.000000  4.691000e+03     4690.000000     4691.000000   \n",
       "mean        70.226759  4.510854e+11       22.422824    13646.447468   \n",
       "std       3612.041067  1.507337e+12      562.771698    15841.659142   \n",
       "min        -99.841847  2.571720e+08      -99.959980      365.696469   \n",
       "25%          0.471030  1.778951e+10        1.754786     2635.831263   \n",
       "50%          1.412886  5.530370e+10        4.140315     7940.043566   \n",
       "75%          2.484223  2.707835e+11        6.736978    18914.544291   \n",
       "max     246521.247709  1.815160e+13    30088.083729   166150.487755   \n",
       "\n",
       "       pct_change_gdp_capita           co2  pct_change_co2  co2_per_capita  \\\n",
       "count            4690.000000  4.691000e+03     4690.000000     4691.000000   \n",
       "mean                4.639735  1.720968e+08             inf        4.938853   \n",
       "std                65.163476  7.127779e+08             NaN        8.506195   \n",
       "min               -97.855035  0.000000e+00     -100.000000        0.000000   \n",
       "25%                 0.416151  3.105500e+06       -2.303857        0.527883   \n",
       "50%                 2.655741  1.681800e+07        2.207314        2.531885   \n",
       "75%                 5.137165  7.511400e+07        7.424662        6.953005   \n",
       "max              3027.309285  1.035388e+10             inf      367.927705   \n",
       "\n",
       "       pct_change_co2_capita  \n",
       "count            4690.000000  \n",
       "mean                     inf  \n",
       "std                      NaN  \n",
       "min              -100.000000  \n",
       "25%                -3.432759  \n",
       "50%                 0.939726  \n",
       "75%                 5.923646  \n",
       "max                      inf  "
      ]
     },
     "execution_count": 38,
     "metadata": {},
     "output_type": "execute_result"
    }
   ],
   "source": [
    "# summary stats for df\n",
    "\n",
    "df.describe()"
   ]
  },
  {
   "cell_type": "markdown",
   "id": "1e2497f1",
   "metadata": {},
   "source": [
    "Based on the summary stats above it appears there are outliers in both the life_expectancy and gdp-per_capita columns"
   ]
  },
  {
   "cell_type": "code",
   "execution_count": 57,
   "id": "04cf9c13",
   "metadata": {},
   "outputs": [],
   "source": [
    "#create a function to find outliers using IQR\n",
    "\n",
    "for x in ['life_expectancy']:\n",
    "    q75,q25 = np.percentile(df.loc[:,x],[75,25])\n",
    "    intr_qr = q75-q25\n",
    " \n",
    "    max = q75+(1.5*intr_qr)\n",
    "    min = q25-(1.5*intr_qr)\n",
    " \n",
    "    df.loc[df[x] < min,x] = np.nan\n",
    "    df.loc[df[x] > max,x] = np.nan"
   ]
  },
  {
   "cell_type": "code",
   "execution_count": 58,
   "id": "dd6f621c",
   "metadata": {},
   "outputs": [],
   "source": [
    "for x in ['gdp_per_capita']:\n",
    "    q75,q25 = np.percentile(df.loc[:,x],[75,25])\n",
    "    intr_qr = q75-q25\n",
    " \n",
    "    max = q75+(1.5*intr_qr)\n",
    "    min = q25-(1.5*intr_qr)\n",
    " \n",
    "    df.loc[df[x] < min,x] = np.nan\n",
    "    df.loc[df[x] > max,x] = np.nan"
   ]
  },
  {
   "cell_type": "code",
   "execution_count": 59,
   "id": "b67d412d",
   "metadata": {},
   "outputs": [
    {
     "data": {
      "text/plain": [
       "country                    0\n",
       "year                       0\n",
       "life_expectancy           17\n",
       "pct_change_life            1\n",
       "population                 0\n",
       "pct_change_pop             1\n",
       "gdp                        0\n",
       "pct_change_gdp             1\n",
       "gdp_per_capita           235\n",
       "pct_change_gdp_capita      1\n",
       "co2                        0\n",
       "pct_change_co2             1\n",
       "co2_per_capita             0\n",
       "pct_change_co2_capita      1\n",
       "life_expectancy_flag       0\n",
       "population_flag            0\n",
       "gdp_flag                   0\n",
       "gdp_capita_flag            0\n",
       "co2_production_flag        0\n",
       "co2_per_capita_flag        0\n",
       "dtype: int64"
      ]
     },
     "execution_count": 59,
     "metadata": {},
     "output_type": "execute_result"
    }
   ],
   "source": [
    "df.isnull().sum()"
   ]
  },
  {
   "cell_type": "code",
   "execution_count": 60,
   "id": "ebfb6269",
   "metadata": {},
   "outputs": [
    {
     "data": {
      "text/plain": [
       "country                  0\n",
       "year                     0\n",
       "life_expectancy          0\n",
       "pct_change_life          1\n",
       "population               0\n",
       "pct_change_pop           1\n",
       "gdp                      0\n",
       "pct_change_gdp           1\n",
       "gdp_per_capita           0\n",
       "pct_change_gdp_capita    1\n",
       "co2                      0\n",
       "pct_change_co2           1\n",
       "co2_per_capita           0\n",
       "pct_change_co2_capita    1\n",
       "life_expectancy_flag     0\n",
       "population_flag          0\n",
       "gdp_flag                 0\n",
       "gdp_capita_flag          0\n",
       "co2_production_flag      0\n",
       "co2_per_capita_flag      0\n",
       "dtype: int64"
      ]
     },
     "execution_count": 60,
     "metadata": {},
     "output_type": "execute_result"
    }
   ],
   "source": [
    "# drop null from life_expectancy and gdp_per_capita variables\n",
    "\n",
    "df = df.dropna(subset=['life_expectancy', 'gdp_per_capita'])\n",
    "\n",
    "df.isnull().sum()"
   ]
  },
  {
   "cell_type": "markdown",
   "id": "4dfbb70f",
   "metadata": {},
   "source": [
    "### regression analysis without outliers"
   ]
  },
  {
   "cell_type": "code",
   "execution_count": 65,
   "id": "0fee67a9",
   "metadata": {},
   "outputs": [
    {
     "data": {
      "image/png": "[encoded data removed]",
      "text/plain": [
       "<Figure size 640x480 with 1 Axes>"
      ]
     },
     "metadata": {},
     "output_type": "display_data"
    }
   ],
   "source": [
    "# Create a scatterplot using matplotlib for another look at how the chosen variables plot against each other.\n",
    "\n",
    "df.plot(x = 'gdp_per_capita', y='life_expectancy',style='o') # The style option creates a scatterplot; without it, we only have lines.\n",
    "plt.title('GDP per Capita vs Life Expectancy')  \n",
    "plt.xlabel('GDP per Capita')  \n",
    "plt.ylabel('Life Expectancy')  \n",
    "plt.show()"
   ]
  },
  {
   "cell_type": "code",
   "execution_count": 66,
   "id": "a9919c8a",
   "metadata": {},
   "outputs": [],
   "source": [
    "# Reshape the variables into NumPy arrays and put them into separate objects.\n",
    "\n",
    "X = df['gdp_per_capita'].values.reshape(-1,1)\n",
    "y = df['life_expectancy'].values.reshape(-1,1)"
   ]
  },
  {
   "cell_type": "code",
   "execution_count": 67,
   "id": "26d62d41",
   "metadata": {},
   "outputs": [],
   "source": [
    "# Split data into a training set and a test set.\n",
    "\n",
    "X_train, X_test, y_train, y_test = train_test_split(X, y, test_size=0.3, random_state=0)"
   ]
  },
  {
   "cell_type": "code",
   "execution_count": 68,
   "id": "7e8efe54",
   "metadata": {},
   "outputs": [],
   "source": [
    "# Create a regression object.\n",
    "\n",
    "regression = LinearRegression()  "
   ]
  },
  {
   "cell_type": "code",
   "execution_count": 69,
   "id": "6a5193bf",
   "metadata": {},
   "outputs": [
    {
     "data": {
      "text/plain": [
       "LinearRegression()"
      ]
     },
     "execution_count": 69,
     "metadata": {},
     "output_type": "execute_result"
    }
   ],
   "source": [
    "# Fit the regression object onto the training set.\n",
    "\n",
    "regression.fit(X_train, y_train)"
   ]
  },
  {
   "cell_type": "code",
   "execution_count": 70,
   "id": "0f771258",
   "metadata": {},
   "outputs": [],
   "source": [
    "# Predict the values of y using X.\n",
    "\n",
    "y_predicted = regression.predict(X_test)"
   ]
  },
  {
   "cell_type": "code",
   "execution_count": 71,
   "id": "cba6e953",
   "metadata": {},
   "outputs": [
    {
     "data": {
      "image/png": "[encoded data removed]",
      "text/plain": [
       "<Figure size 640x480 with 1 Axes>"
      ]
     },
     "metadata": {},
     "output_type": "display_data"
    }
   ],
   "source": [
    "# Create a plot that shows the regression line from the model on the test set.\n",
    "\n",
    "plot_test = plt\n",
    "plot_test.scatter(X_test, y_test, color='gray', s = 15)\n",
    "plot_test.plot(X_test, y_predicted, color='red', linewidth =3)\n",
    "plot_test.title('GDP per Capita vs Life Expectancy (Test set)')\n",
    "plot_test.xlabel('GDP per Capita')\n",
    "plot_test.ylabel('Life Expectancy')\n",
    "plot_test.show()"
   ]
  },
  {
   "cell_type": "markdown",
   "id": "f8643b7b",
   "metadata": {},
   "source": [
    "This line appears to be a better fit when the outliers are removed from the life_expectancy and gdp_per_capita variables"
   ]
  },
  {
   "cell_type": "code",
   "execution_count": 72,
   "id": "ca9d1c91",
   "metadata": {},
   "outputs": [],
   "source": [
    "# Create objects that contain the model summary statistics.\n",
    "\n",
    "rmse = mean_squared_error(y_test, y_predicted) # This is the mean squared error\n",
    "r2 = r2_score(y_test, y_predicted) # This is the R2 score. "
   ]
  },
  {
   "cell_type": "code",
   "execution_count": 73,
   "id": "e1e1c30e",
   "metadata": {},
   "outputs": [
    {
     "name": "stdout",
     "output_type": "stream",
     "text": [
      "Slope: [[0.00062968]]\n",
      "Mean squared error:  47.78758512568868\n",
      "R2 score:  0.4852377673720699\n"
     ]
    }
   ],
   "source": [
    "# Print the model summary statistics. \n",
    "\n",
    "print('Slope:' ,regression.coef_)\n",
    "print('Mean squared error: ', rmse)\n",
    "print('R2 score: ', r2)"
   ]
  },
  {
   "cell_type": "code",
   "execution_count": 74,
   "id": "b4d40c52",
   "metadata": {},
   "outputs": [
    {
     "data": {
      "text/plain": [
       "array([[62.00733823],\n",
       "       [80.58184289],\n",
       "       [80.28563997],\n",
       "       ...,\n",
       "       [62.03227403],\n",
       "       [64.49036963],\n",
       "       [74.96674468]])"
      ]
     },
     "execution_count": 74,
     "metadata": {},
     "output_type": "execute_result"
    }
   ],
   "source": [
    "y_predicted"
   ]
  },
  {
   "cell_type": "code",
   "execution_count": 75,
   "id": "d3940d59",
   "metadata": {},
   "outputs": [
    {
     "data": {
      "text/html": [
       "<div>\n",
       "<style scoped>\n",
       "    .dataframe tbody tr th:only-of-type {\n",
       "        vertical-align: middle;\n",
       "    }\n",
       "\n",
       "    .dataframe tbody tr th {\n",
       "        vertical-align: top;\n",
       "    }\n",
       "\n",
       "    .dataframe thead th {\n",
       "        text-align: right;\n",
       "    }\n",
       "</style>\n",
       "<table border=\"1\" class=\"dataframe\">\n",
       "  <thead>\n",
       "    <tr style=\"text-align: right;\">\n",
       "      <th></th>\n",
       "      <th>Actual</th>\n",
       "      <th>Predicted</th>\n",
       "    </tr>\n",
       "  </thead>\n",
       "  <tbody>\n",
       "    <tr>\n",
       "      <th>0</th>\n",
       "      <td>44.009998</td>\n",
       "      <td>62.007338</td>\n",
       "    </tr>\n",
       "    <tr>\n",
       "      <th>1</th>\n",
       "      <td>82.448784</td>\n",
       "      <td>80.581843</td>\n",
       "    </tr>\n",
       "    <tr>\n",
       "      <th>2</th>\n",
       "      <td>72.931000</td>\n",
       "      <td>80.285640</td>\n",
       "    </tr>\n",
       "    <tr>\n",
       "      <th>3</th>\n",
       "      <td>71.463997</td>\n",
       "      <td>78.087550</td>\n",
       "    </tr>\n",
       "    <tr>\n",
       "      <th>4</th>\n",
       "      <td>72.949997</td>\n",
       "      <td>75.906748</td>\n",
       "    </tr>\n",
       "    <tr>\n",
       "      <th>5</th>\n",
       "      <td>59.101002</td>\n",
       "      <td>61.535730</td>\n",
       "    </tr>\n",
       "    <tr>\n",
       "      <th>6</th>\n",
       "      <td>66.370003</td>\n",
       "      <td>62.079911</td>\n",
       "    </tr>\n",
       "    <tr>\n",
       "      <th>7</th>\n",
       "      <td>73.662003</td>\n",
       "      <td>66.556350</td>\n",
       "    </tr>\n",
       "    <tr>\n",
       "      <th>8</th>\n",
       "      <td>71.813004</td>\n",
       "      <td>67.744255</td>\n",
       "    </tr>\n",
       "    <tr>\n",
       "      <th>9</th>\n",
       "      <td>76.229271</td>\n",
       "      <td>74.127581</td>\n",
       "    </tr>\n",
       "    <tr>\n",
       "      <th>10</th>\n",
       "      <td>72.239998</td>\n",
       "      <td>64.553369</td>\n",
       "    </tr>\n",
       "    <tr>\n",
       "      <th>11</th>\n",
       "      <td>71.494392</td>\n",
       "      <td>65.557025</td>\n",
       "    </tr>\n",
       "    <tr>\n",
       "      <th>12</th>\n",
       "      <td>60.883999</td>\n",
       "      <td>61.537522</td>\n",
       "    </tr>\n",
       "    <tr>\n",
       "      <th>13</th>\n",
       "      <td>78.070732</td>\n",
       "      <td>75.819788</td>\n",
       "    </tr>\n",
       "    <tr>\n",
       "      <th>14</th>\n",
       "      <td>76.765854</td>\n",
       "      <td>76.600381</td>\n",
       "    </tr>\n",
       "    <tr>\n",
       "      <th>15</th>\n",
       "      <td>79.253662</td>\n",
       "      <td>73.786226</td>\n",
       "    </tr>\n",
       "    <tr>\n",
       "      <th>16</th>\n",
       "      <td>46.120998</td>\n",
       "      <td>61.160687</td>\n",
       "    </tr>\n",
       "    <tr>\n",
       "      <th>17</th>\n",
       "      <td>76.199997</td>\n",
       "      <td>70.133504</td>\n",
       "    </tr>\n",
       "    <tr>\n",
       "      <th>18</th>\n",
       "      <td>71.208778</td>\n",
       "      <td>65.802172</td>\n",
       "    </tr>\n",
       "    <tr>\n",
       "      <th>19</th>\n",
       "      <td>61.233002</td>\n",
       "      <td>62.101203</td>\n",
       "    </tr>\n",
       "    <tr>\n",
       "      <th>20</th>\n",
       "      <td>75.813004</td>\n",
       "      <td>70.149845</td>\n",
       "    </tr>\n",
       "    <tr>\n",
       "      <th>21</th>\n",
       "      <td>75.982925</td>\n",
       "      <td>70.360086</td>\n",
       "    </tr>\n",
       "    <tr>\n",
       "      <th>22</th>\n",
       "      <td>71.009758</td>\n",
       "      <td>65.993195</td>\n",
       "    </tr>\n",
       "    <tr>\n",
       "      <th>23</th>\n",
       "      <td>82.802437</td>\n",
       "      <td>81.351760</td>\n",
       "    </tr>\n",
       "    <tr>\n",
       "      <th>24</th>\n",
       "      <td>55.563999</td>\n",
       "      <td>61.313942</td>\n",
       "    </tr>\n",
       "    <tr>\n",
       "      <th>25</th>\n",
       "      <td>79.214638</td>\n",
       "      <td>84.620596</td>\n",
       "    </tr>\n",
       "    <tr>\n",
       "      <th>26</th>\n",
       "      <td>76.880486</td>\n",
       "      <td>87.378234</td>\n",
       "    </tr>\n",
       "    <tr>\n",
       "      <th>27</th>\n",
       "      <td>65.872002</td>\n",
       "      <td>61.649217</td>\n",
       "    </tr>\n",
       "    <tr>\n",
       "      <th>28</th>\n",
       "      <td>46.229000</td>\n",
       "      <td>61.347527</td>\n",
       "    </tr>\n",
       "    <tr>\n",
       "      <th>29</th>\n",
       "      <td>69.933998</td>\n",
       "      <td>62.359512</td>\n",
       "    </tr>\n",
       "  </tbody>\n",
       "</table>\n",
       "</div>"
      ],
      "text/plain": [
       "       Actual  Predicted\n",
       "0   44.009998  62.007338\n",
       "1   82.448784  80.581843\n",
       "2   72.931000  80.285640\n",
       "3   71.463997  78.087550\n",
       "4   72.949997  75.906748\n",
       "5   59.101002  61.535730\n",
       "6   66.370003  62.079911\n",
       "7   73.662003  66.556350\n",
       "8   71.813004  67.744255\n",
       "9   76.229271  74.127581\n",
       "10  72.239998  64.553369\n",
       "11  71.494392  65.557025\n",
       "12  60.883999  61.537522\n",
       "13  78.070732  75.819788\n",
       "14  76.765854  76.600381\n",
       "15  79.253662  73.786226\n",
       "16  46.120998  61.160687\n",
       "17  76.199997  70.133504\n",
       "18  71.208778  65.802172\n",
       "19  61.233002  62.101203\n",
       "20  75.813004  70.149845\n",
       "21  75.982925  70.360086\n",
       "22  71.009758  65.993195\n",
       "23  82.802437  81.351760\n",
       "24  55.563999  61.313942\n",
       "25  79.214638  84.620596\n",
       "26  76.880486  87.378234\n",
       "27  65.872002  61.649217\n",
       "28  46.229000  61.347527\n",
       "29  69.933998  62.359512"
      ]
     },
     "execution_count": 75,
     "metadata": {},
     "output_type": "execute_result"
    }
   ],
   "source": [
    "# Create a dataframe comparing the actual and predicted values of y.\n",
    "\n",
    "data = pd.DataFrame({'Actual': y_test.flatten(), 'Predicted': y_predicted.flatten()})\n",
    "data.head(30)"
   ]
  },
  {
   "cell_type": "markdown",
   "id": "f492e7c4",
   "metadata": {},
   "source": [
    "#### Compare how the regression fits the training set"
   ]
  },
  {
   "cell_type": "code",
   "execution_count": 76,
   "id": "0dcba6c4",
   "metadata": {},
   "outputs": [],
   "source": [
    "# Predict.\n",
    "\n",
    "y_predicted_train = regression.predict(X_train) "
   ]
  },
  {
   "cell_type": "code",
   "execution_count": 77,
   "id": "ad5cd0fe",
   "metadata": {},
   "outputs": [],
   "source": [
    "rmse = mean_squared_error(y_train, y_predicted_train)\n",
    "r2 = r2_score(y_train, y_predicted_train)"
   ]
  },
  {
   "cell_type": "code",
   "execution_count": 78,
   "id": "ef1870d2",
   "metadata": {},
   "outputs": [
    {
     "name": "stdout",
     "output_type": "stream",
     "text": [
      "Slope: [[0.00062968]]\n",
      "Mean squared error:  47.938521645496856\n",
      "R2 score:  0.4976674872967819\n"
     ]
    }
   ],
   "source": [
    "print('Slope:' ,regression.coef_)\n",
    "print('Mean squared error: ', rmse)\n",
    "print('R2 score: ', r2)"
   ]
  },
  {
   "cell_type": "code",
   "execution_count": 79,
   "id": "5cc9eee1",
   "metadata": {},
   "outputs": [
    {
     "data": {
      "image/png": "[encoded data removed]",
      "text/plain": [
       "<Figure size 640x480 with 1 Axes>"
      ]
     },
     "metadata": {},
     "output_type": "display_data"
    }
   ],
   "source": [
    "# Visualizing the training set results.\n",
    "\n",
    "plot_test = plt\n",
    "plot_test.scatter(X_train, y_train, color='green', s = 15)\n",
    "plot_test.plot(X_train, y_predicted_train, color='red', linewidth =3)\n",
    "plot_test.title('GDP per Capita vs Life Expectancy (Train set)')\n",
    "plot_test.xlabel('GDP per Capita')\n",
    "plot_test.ylabel('Life Expectancy')\n",
    "plot_test.show()"
   ]
  },
  {
   "cell_type": "markdown",
   "id": "cdd38275",
   "metadata": {},
   "source": [
    "While removing the outliers from both variables did improve the model and there dies appear to be a relationship between gdp_per_capita and life_expectancy within countries, other variables must exist that also influence life expectancy in a country. I would be interested to see how gdp_per_capita is effected by co2 production in the lower incomem middle income, and high income countries. I cannot suggest this model to be a good indicator of life expectancy ina a country based on gdp_per_capita."
   ]
  },
  {
   "cell_type": "code",
   "execution_count": null,
   "id": "5f693309",
   "metadata": {},
   "outputs": [],
   "source": []
  }
 ],
 "metadata": {
  "kernelspec": {
   "display_name": "Python 3 (ipykernel)",
   "language": "python",
   "name": "python3"
  },
  "language_info": {
   "codemirror_mode": {
    "name": "ipython",
    "version": 3
   },
   "file_extension": ".py",
   "mimetype": "text/x-python",
   "name": "python",
   "nbconvert_exporter": "python",
   "pygments_lexer": "ipython3",
   "version": "3.9.13"
  },
  "toc": {
   "base_numbering": 1,
   "nav_menu": {},
   "number_sections": false,
   "sideBar": false,
   "skip_h1_title": false,
   "title_cell": "Table of Contents",
   "title_sidebar": "Contents",
   "toc_cell": true,
   "toc_position": {
    "height": "calc(100% - 180px)",
    "left": "10px",
    "top": "150px",
    "width": "349.091px"
   },
   "toc_section_display": true,
   "toc_window_display": false
  }
 },
 "nbformat": 4,
 "nbformat_minor": 5
}
